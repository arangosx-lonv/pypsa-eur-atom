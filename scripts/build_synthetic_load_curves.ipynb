{
 "cells": [
  {
   "cell_type": "code",
   "execution_count": 1,
   "outputs": [],
   "source": [
    "import pandas as pd\n",
    "import numpy as np\n",
    "import datetime"
   ],
   "metadata": {
    "collapsed": false,
    "pycharm": {
     "name": "#%%\n"
    }
   }
  },
  {
   "cell_type": "markdown",
   "source": [
    "# Key Assumptions\n",
    "'curve_year' determines the name of the output file, as well as which pre-generated transportation load curve dataset will be imported.\n",
    "'pct_heat_elec' is the proportion of heating demand met by heat pumps in that year.\n",
    "'ASHP_weight' is the proportion of air-source heat pumps (the remainder is assumed to be entirely ground-source heat pumps, with no significant impact from water-source heat pumps)\n",
    "\n",
    "For the first run, pct_heat_elec was set to 0.35 for 2030 and 0.9 for 2050. ASHP_weight is 0.75 in both cases."
   ],
   "metadata": {
    "collapsed": false,
    "pycharm": {
     "name": "#%% md\n"
    }
   }
  },
  {
   "cell_type": "code",
   "execution_count": 30,
   "outputs": [],
   "source": [
    "curve_year = 2030\n",
    "pct_heat_elec = 0.35\n",
    "ASHP_weight = 0.75"
   ],
   "metadata": {
    "collapsed": false,
    "pycharm": {
     "name": "#%%\n"
    }
   }
  },
  {
   "cell_type": "markdown",
   "source": [
    "# Base load profiles"
   ],
   "metadata": {
    "collapsed": false,
    "pycharm": {
     "name": "#%% md\n"
    }
   }
  },
  {
   "cell_type": "code",
   "execution_count": 31,
   "outputs": [
    {
     "data": {
      "text/plain": "      utc_timestamp           AT           BE           BG           CH  \\\n0  01/01/2013 00:00  7273.008880  9208.107529  4488.833468  7061.149722   \n1  01/01/2013 01:00  6998.534542  8695.600383  4407.401556  6999.661910   \n2  01/01/2013 02:00  6788.500009  8334.247285  4351.053371  6973.980931   \n3  01/01/2013 03:00  6601.450469  8161.085044  4282.927052  6672.768370   \n4  01/01/2013 04:00  6335.379642  8113.800260  4220.904102  6482.876940   \n\n            CZ           DE           DK     EE           ES  ...   LU   LV  \\\n0  5597.287520  48551.65719  3324.126087  844.0  24233.29282  ...  417  645   \n1  5414.010719  45819.10995  3250.522340  812.0  22954.22955  ...  401  616   \n2  5073.513874  43989.75526  3218.772187  788.0  21812.83294  ...  390  600   \n3  5686.432477  42984.65536  3225.112615  786.0  20952.52884  ...  382  611   \n4  6105.381670  42623.67619  3272.787133  793.0  20593.44090  ...  383  614   \n\n            NL           NO           PL           PT           RO  \\\n0  11143.84289  14459.27060  11078.05489  5284.386719  5555.529302   \n1  10886.98953  14282.55865  10955.58648  4925.629264  5549.334418   \n2  10747.30159  14200.83321  11044.30141  4675.745742  5584.048552   \n3  10633.91753  14160.19004  11346.50780  4523.547777  5692.312839   \n4  10415.03684  13971.56183  12278.38921  4423.696561  5961.172064   \n\n            SE           SI           SK  \n0  15026.92663  1394.275471  2759.402805  \n1  14889.70064  1332.854905  2746.010081  \n2  14808.35464  1301.375283  2742.382698  \n3  14764.83502  1280.570001  2749.075217  \n4  14843.00911  1289.456382  2752.031094  \n\n[5 rows x 29 columns]",
      "text/html": "<div>\n<style scoped>\n    .dataframe tbody tr th:only-of-type {\n        vertical-align: middle;\n    }\n\n    .dataframe tbody tr th {\n        vertical-align: top;\n    }\n\n    .dataframe thead th {\n        text-align: right;\n    }\n</style>\n<table border=\"1\" class=\"dataframe\">\n  <thead>\n    <tr style=\"text-align: right;\">\n      <th></th>\n      <th>utc_timestamp</th>\n      <th>AT</th>\n      <th>BE</th>\n      <th>BG</th>\n      <th>CH</th>\n      <th>CZ</th>\n      <th>DE</th>\n      <th>DK</th>\n      <th>EE</th>\n      <th>ES</th>\n      <th>...</th>\n      <th>LU</th>\n      <th>LV</th>\n      <th>NL</th>\n      <th>NO</th>\n      <th>PL</th>\n      <th>PT</th>\n      <th>RO</th>\n      <th>SE</th>\n      <th>SI</th>\n      <th>SK</th>\n    </tr>\n  </thead>\n  <tbody>\n    <tr>\n      <th>0</th>\n      <td>01/01/2013 00:00</td>\n      <td>7273.008880</td>\n      <td>9208.107529</td>\n      <td>4488.833468</td>\n      <td>7061.149722</td>\n      <td>5597.287520</td>\n      <td>48551.65719</td>\n      <td>3324.126087</td>\n      <td>844.0</td>\n      <td>24233.29282</td>\n      <td>...</td>\n      <td>417</td>\n      <td>645</td>\n      <td>11143.84289</td>\n      <td>14459.27060</td>\n      <td>11078.05489</td>\n      <td>5284.386719</td>\n      <td>5555.529302</td>\n      <td>15026.92663</td>\n      <td>1394.275471</td>\n      <td>2759.402805</td>\n    </tr>\n    <tr>\n      <th>1</th>\n      <td>01/01/2013 01:00</td>\n      <td>6998.534542</td>\n      <td>8695.600383</td>\n      <td>4407.401556</td>\n      <td>6999.661910</td>\n      <td>5414.010719</td>\n      <td>45819.10995</td>\n      <td>3250.522340</td>\n      <td>812.0</td>\n      <td>22954.22955</td>\n      <td>...</td>\n      <td>401</td>\n      <td>616</td>\n      <td>10886.98953</td>\n      <td>14282.55865</td>\n      <td>10955.58648</td>\n      <td>4925.629264</td>\n      <td>5549.334418</td>\n      <td>14889.70064</td>\n      <td>1332.854905</td>\n      <td>2746.010081</td>\n    </tr>\n    <tr>\n      <th>2</th>\n      <td>01/01/2013 02:00</td>\n      <td>6788.500009</td>\n      <td>8334.247285</td>\n      <td>4351.053371</td>\n      <td>6973.980931</td>\n      <td>5073.513874</td>\n      <td>43989.75526</td>\n      <td>3218.772187</td>\n      <td>788.0</td>\n      <td>21812.83294</td>\n      <td>...</td>\n      <td>390</td>\n      <td>600</td>\n      <td>10747.30159</td>\n      <td>14200.83321</td>\n      <td>11044.30141</td>\n      <td>4675.745742</td>\n      <td>5584.048552</td>\n      <td>14808.35464</td>\n      <td>1301.375283</td>\n      <td>2742.382698</td>\n    </tr>\n    <tr>\n      <th>3</th>\n      <td>01/01/2013 03:00</td>\n      <td>6601.450469</td>\n      <td>8161.085044</td>\n      <td>4282.927052</td>\n      <td>6672.768370</td>\n      <td>5686.432477</td>\n      <td>42984.65536</td>\n      <td>3225.112615</td>\n      <td>786.0</td>\n      <td>20952.52884</td>\n      <td>...</td>\n      <td>382</td>\n      <td>611</td>\n      <td>10633.91753</td>\n      <td>14160.19004</td>\n      <td>11346.50780</td>\n      <td>4523.547777</td>\n      <td>5692.312839</td>\n      <td>14764.83502</td>\n      <td>1280.570001</td>\n      <td>2749.075217</td>\n    </tr>\n    <tr>\n      <th>4</th>\n      <td>01/01/2013 04:00</td>\n      <td>6335.379642</td>\n      <td>8113.800260</td>\n      <td>4220.904102</td>\n      <td>6482.876940</td>\n      <td>6105.381670</td>\n      <td>42623.67619</td>\n      <td>3272.787133</td>\n      <td>793.0</td>\n      <td>20593.44090</td>\n      <td>...</td>\n      <td>383</td>\n      <td>614</td>\n      <td>10415.03684</td>\n      <td>13971.56183</td>\n      <td>12278.38921</td>\n      <td>4423.696561</td>\n      <td>5961.172064</td>\n      <td>14843.00911</td>\n      <td>1289.456382</td>\n      <td>2752.031094</td>\n    </tr>\n  </tbody>\n</table>\n<p>5 rows × 29 columns</p>\n</div>"
     },
     "execution_count": 31,
     "metadata": {},
     "output_type": "execute_result"
    }
   ],
   "source": [
    "base_load = pd.read_csv(\"../data/load.csv\")\n",
    "base_load.head()"
   ],
   "metadata": {
    "collapsed": false,
    "pycharm": {
     "name": "#%%\n"
    }
   }
  },
  {
   "cell_type": "code",
   "execution_count": 32,
   "outputs": [],
   "source": [
    "def update_timestamp(row):\n",
    "    return pd.to_datetime(row['utc_timestamp']).replace(year = curve_year, tzinfo = None)"
   ],
   "metadata": {
    "collapsed": false,
    "pycharm": {
     "name": "#%%\n"
    }
   }
  },
  {
   "cell_type": "code",
   "execution_count": 33,
   "outputs": [
    {
     "data": {
      "text/plain": "                              AT            BE           BG           CH  \\\nutc_timestamp                                                              \n2030-01-01 00:00:00  7273.008880   9208.107529  4488.833468  7061.149722   \n2030-01-01 01:00:00  6998.534542   8695.600383  4407.401556  6999.661910   \n2030-01-01 02:00:00  6788.500009   8334.247285  4351.053371  6973.980931   \n2030-01-01 03:00:00  6601.450469   8161.085044  4282.927052  6672.768370   \n2030-01-01 04:00:00  6335.379642   8113.800260  4220.904102  6482.876940   \n...                          ...           ...          ...          ...   \n2030-12-31 19:00:00  9386.349859  11024.632880  6151.020241  7683.182412   \n2030-12-31 20:00:00  8840.382731  10335.600050  5957.600260  7552.342741   \n2030-12-31 21:00:00  8387.627887  10764.096610  5530.564648  7629.098578   \n2030-12-31 22:00:00  8048.931215  11061.074900  5038.097172  7456.639385   \n2030-12-31 23:00:00  8010.322636  10493.304010  4709.318363  7387.477858   \n\n                              CZ           DE           DK     EE  \\\nutc_timestamp                                                       \n2030-01-01 00:00:00  5597.287520  48551.65719  3324.126087  844.0   \n2030-01-01 01:00:00  5414.010719  45819.10995  3250.522340  812.0   \n2030-01-01 02:00:00  5073.513874  43989.75526  3218.772187  788.0   \n2030-01-01 03:00:00  5686.432477  42984.65536  3225.112615  786.0   \n2030-01-01 04:00:00  6105.381670  42623.67619  3272.787133  793.0   \n...                          ...          ...          ...    ...   \n2030-12-31 19:00:00  8329.607068  62324.08489  4389.329937  874.0   \n2030-12-31 20:00:00  7977.239649  60587.59882  4137.483788  822.0   \n2030-12-31 21:00:00  7765.971762  57680.45007  3888.735148  798.0   \n2030-12-31 22:00:00  7432.323620  55982.81157  3639.998703  766.0   \n2030-12-31 23:00:00  7210.171302  55497.40053  3389.646876  757.0   \n\n                              ES            FI  ...   LU   LV           NL  \\\nutc_timestamp                                   ...                          \n2030-01-01 00:00:00  24233.29282  10046.221190  ...  417  645  11143.84289   \n2030-01-01 01:00:00  22954.22955   9905.462216  ...  401  616  10886.98953   \n2030-01-01 02:00:00  21812.83294   9811.196155  ...  390  600  10747.30159   \n2030-01-01 03:00:00  20952.52884   9726.668139  ...  382  611  10633.91753   \n2030-01-01 04:00:00  20593.44090  10178.311070  ...  383  614  10415.03684   \n...                          ...           ...  ...  ...  ...          ...   \n2030-12-31 19:00:00  32791.91685  10157.153970  ...  498  826  15198.95066   \n2030-12-31 20:00:00  32491.47081  10301.183330  ...  471  785  14520.84862   \n2030-12-31 21:00:00  30947.26879  10159.702800  ...  482  734  13737.29188   \n2030-12-31 22:00:00  29009.28975   9803.613001  ...  461  725  12983.42328   \n2030-12-31 23:00:00  27172.30845   9520.907263  ...  444  704  12263.08447   \n\n                              NO           PL           PT           RO  \\\nutc_timestamp                                                             \n2030-01-01 00:00:00  14459.27060  11078.05489  5284.386719  5555.529302   \n2030-01-01 01:00:00  14282.55865  10955.58648  4925.629264  5549.334418   \n2030-01-01 02:00:00  14200.83321  11044.30141  4675.745742  5584.048552   \n2030-01-01 03:00:00  14160.19004  11346.50780  4523.547777  5692.312839   \n2030-01-01 04:00:00  13971.56183  12278.38921  4423.696561  5961.172064   \n...                          ...          ...          ...          ...   \n2030-12-31 19:00:00  15708.10472  17908.95435  7855.883107  6877.162015   \n2030-12-31 20:00:00  15671.15604  16938.01477  7644.618577  6379.051350   \n2030-12-31 21:00:00  15687.53012  16345.81784  7283.272037  5951.060596   \n2030-12-31 22:00:00  15586.25659  15712.76659  7060.059336  5656.096914   \n2030-12-31 23:00:00  15337.06805  15712.76659  6395.520976  5489.879237   \n\n                              SE           SI           SK  \nutc_timestamp                                               \n2030-01-01 00:00:00  15026.92663  1394.275471  2759.402805  \n2030-01-01 01:00:00  14889.70064  1332.854905  2746.010081  \n2030-01-01 02:00:00  14808.35464  1301.375283  2742.382698  \n2030-01-01 03:00:00  14764.83502  1280.570001  2749.075217  \n2030-01-01 04:00:00  14843.00911  1289.456382  2752.031094  \n...                          ...          ...          ...  \n2030-12-31 19:00:00  16529.90459  2017.074313  3064.645211  \n2030-12-31 20:00:00  16027.89693  1946.820075  3016.149170  \n2030-12-31 21:00:00  15367.42127  1831.116429  2905.938036  \n2030-12-31 22:00:00  14742.26674  1697.986352  2857.246147  \n2030-12-31 23:00:00  14305.00192  1601.230047  2776.171769  \n\n[8760 rows x 28 columns]",
      "text/html": "<div>\n<style scoped>\n    .dataframe tbody tr th:only-of-type {\n        vertical-align: middle;\n    }\n\n    .dataframe tbody tr th {\n        vertical-align: top;\n    }\n\n    .dataframe thead th {\n        text-align: right;\n    }\n</style>\n<table border=\"1\" class=\"dataframe\">\n  <thead>\n    <tr style=\"text-align: right;\">\n      <th></th>\n      <th>AT</th>\n      <th>BE</th>\n      <th>BG</th>\n      <th>CH</th>\n      <th>CZ</th>\n      <th>DE</th>\n      <th>DK</th>\n      <th>EE</th>\n      <th>ES</th>\n      <th>FI</th>\n      <th>...</th>\n      <th>LU</th>\n      <th>LV</th>\n      <th>NL</th>\n      <th>NO</th>\n      <th>PL</th>\n      <th>PT</th>\n      <th>RO</th>\n      <th>SE</th>\n      <th>SI</th>\n      <th>SK</th>\n    </tr>\n    <tr>\n      <th>utc_timestamp</th>\n      <th></th>\n      <th></th>\n      <th></th>\n      <th></th>\n      <th></th>\n      <th></th>\n      <th></th>\n      <th></th>\n      <th></th>\n      <th></th>\n      <th></th>\n      <th></th>\n      <th></th>\n      <th></th>\n      <th></th>\n      <th></th>\n      <th></th>\n      <th></th>\n      <th></th>\n      <th></th>\n      <th></th>\n    </tr>\n  </thead>\n  <tbody>\n    <tr>\n      <th>2030-01-01 00:00:00</th>\n      <td>7273.008880</td>\n      <td>9208.107529</td>\n      <td>4488.833468</td>\n      <td>7061.149722</td>\n      <td>5597.287520</td>\n      <td>48551.65719</td>\n      <td>3324.126087</td>\n      <td>844.0</td>\n      <td>24233.29282</td>\n      <td>10046.221190</td>\n      <td>...</td>\n      <td>417</td>\n      <td>645</td>\n      <td>11143.84289</td>\n      <td>14459.27060</td>\n      <td>11078.05489</td>\n      <td>5284.386719</td>\n      <td>5555.529302</td>\n      <td>15026.92663</td>\n      <td>1394.275471</td>\n      <td>2759.402805</td>\n    </tr>\n    <tr>\n      <th>2030-01-01 01:00:00</th>\n      <td>6998.534542</td>\n      <td>8695.600383</td>\n      <td>4407.401556</td>\n      <td>6999.661910</td>\n      <td>5414.010719</td>\n      <td>45819.10995</td>\n      <td>3250.522340</td>\n      <td>812.0</td>\n      <td>22954.22955</td>\n      <td>9905.462216</td>\n      <td>...</td>\n      <td>401</td>\n      <td>616</td>\n      <td>10886.98953</td>\n      <td>14282.55865</td>\n      <td>10955.58648</td>\n      <td>4925.629264</td>\n      <td>5549.334418</td>\n      <td>14889.70064</td>\n      <td>1332.854905</td>\n      <td>2746.010081</td>\n    </tr>\n    <tr>\n      <th>2030-01-01 02:00:00</th>\n      <td>6788.500009</td>\n      <td>8334.247285</td>\n      <td>4351.053371</td>\n      <td>6973.980931</td>\n      <td>5073.513874</td>\n      <td>43989.75526</td>\n      <td>3218.772187</td>\n      <td>788.0</td>\n      <td>21812.83294</td>\n      <td>9811.196155</td>\n      <td>...</td>\n      <td>390</td>\n      <td>600</td>\n      <td>10747.30159</td>\n      <td>14200.83321</td>\n      <td>11044.30141</td>\n      <td>4675.745742</td>\n      <td>5584.048552</td>\n      <td>14808.35464</td>\n      <td>1301.375283</td>\n      <td>2742.382698</td>\n    </tr>\n    <tr>\n      <th>2030-01-01 03:00:00</th>\n      <td>6601.450469</td>\n      <td>8161.085044</td>\n      <td>4282.927052</td>\n      <td>6672.768370</td>\n      <td>5686.432477</td>\n      <td>42984.65536</td>\n      <td>3225.112615</td>\n      <td>786.0</td>\n      <td>20952.52884</td>\n      <td>9726.668139</td>\n      <td>...</td>\n      <td>382</td>\n      <td>611</td>\n      <td>10633.91753</td>\n      <td>14160.19004</td>\n      <td>11346.50780</td>\n      <td>4523.547777</td>\n      <td>5692.312839</td>\n      <td>14764.83502</td>\n      <td>1280.570001</td>\n      <td>2749.075217</td>\n    </tr>\n    <tr>\n      <th>2030-01-01 04:00:00</th>\n      <td>6335.379642</td>\n      <td>8113.800260</td>\n      <td>4220.904102</td>\n      <td>6482.876940</td>\n      <td>6105.381670</td>\n      <td>42623.67619</td>\n      <td>3272.787133</td>\n      <td>793.0</td>\n      <td>20593.44090</td>\n      <td>10178.311070</td>\n      <td>...</td>\n      <td>383</td>\n      <td>614</td>\n      <td>10415.03684</td>\n      <td>13971.56183</td>\n      <td>12278.38921</td>\n      <td>4423.696561</td>\n      <td>5961.172064</td>\n      <td>14843.00911</td>\n      <td>1289.456382</td>\n      <td>2752.031094</td>\n    </tr>\n    <tr>\n      <th>...</th>\n      <td>...</td>\n      <td>...</td>\n      <td>...</td>\n      <td>...</td>\n      <td>...</td>\n      <td>...</td>\n      <td>...</td>\n      <td>...</td>\n      <td>...</td>\n      <td>...</td>\n      <td>...</td>\n      <td>...</td>\n      <td>...</td>\n      <td>...</td>\n      <td>...</td>\n      <td>...</td>\n      <td>...</td>\n      <td>...</td>\n      <td>...</td>\n      <td>...</td>\n      <td>...</td>\n    </tr>\n    <tr>\n      <th>2030-12-31 19:00:00</th>\n      <td>9386.349859</td>\n      <td>11024.632880</td>\n      <td>6151.020241</td>\n      <td>7683.182412</td>\n      <td>8329.607068</td>\n      <td>62324.08489</td>\n      <td>4389.329937</td>\n      <td>874.0</td>\n      <td>32791.91685</td>\n      <td>10157.153970</td>\n      <td>...</td>\n      <td>498</td>\n      <td>826</td>\n      <td>15198.95066</td>\n      <td>15708.10472</td>\n      <td>17908.95435</td>\n      <td>7855.883107</td>\n      <td>6877.162015</td>\n      <td>16529.90459</td>\n      <td>2017.074313</td>\n      <td>3064.645211</td>\n    </tr>\n    <tr>\n      <th>2030-12-31 20:00:00</th>\n      <td>8840.382731</td>\n      <td>10335.600050</td>\n      <td>5957.600260</td>\n      <td>7552.342741</td>\n      <td>7977.239649</td>\n      <td>60587.59882</td>\n      <td>4137.483788</td>\n      <td>822.0</td>\n      <td>32491.47081</td>\n      <td>10301.183330</td>\n      <td>...</td>\n      <td>471</td>\n      <td>785</td>\n      <td>14520.84862</td>\n      <td>15671.15604</td>\n      <td>16938.01477</td>\n      <td>7644.618577</td>\n      <td>6379.051350</td>\n      <td>16027.89693</td>\n      <td>1946.820075</td>\n      <td>3016.149170</td>\n    </tr>\n    <tr>\n      <th>2030-12-31 21:00:00</th>\n      <td>8387.627887</td>\n      <td>10764.096610</td>\n      <td>5530.564648</td>\n      <td>7629.098578</td>\n      <td>7765.971762</td>\n      <td>57680.45007</td>\n      <td>3888.735148</td>\n      <td>798.0</td>\n      <td>30947.26879</td>\n      <td>10159.702800</td>\n      <td>...</td>\n      <td>482</td>\n      <td>734</td>\n      <td>13737.29188</td>\n      <td>15687.53012</td>\n      <td>16345.81784</td>\n      <td>7283.272037</td>\n      <td>5951.060596</td>\n      <td>15367.42127</td>\n      <td>1831.116429</td>\n      <td>2905.938036</td>\n    </tr>\n    <tr>\n      <th>2030-12-31 22:00:00</th>\n      <td>8048.931215</td>\n      <td>11061.074900</td>\n      <td>5038.097172</td>\n      <td>7456.639385</td>\n      <td>7432.323620</td>\n      <td>55982.81157</td>\n      <td>3639.998703</td>\n      <td>766.0</td>\n      <td>29009.28975</td>\n      <td>9803.613001</td>\n      <td>...</td>\n      <td>461</td>\n      <td>725</td>\n      <td>12983.42328</td>\n      <td>15586.25659</td>\n      <td>15712.76659</td>\n      <td>7060.059336</td>\n      <td>5656.096914</td>\n      <td>14742.26674</td>\n      <td>1697.986352</td>\n      <td>2857.246147</td>\n    </tr>\n    <tr>\n      <th>2030-12-31 23:00:00</th>\n      <td>8010.322636</td>\n      <td>10493.304010</td>\n      <td>4709.318363</td>\n      <td>7387.477858</td>\n      <td>7210.171302</td>\n      <td>55497.40053</td>\n      <td>3389.646876</td>\n      <td>757.0</td>\n      <td>27172.30845</td>\n      <td>9520.907263</td>\n      <td>...</td>\n      <td>444</td>\n      <td>704</td>\n      <td>12263.08447</td>\n      <td>15337.06805</td>\n      <td>15712.76659</td>\n      <td>6395.520976</td>\n      <td>5489.879237</td>\n      <td>14305.00192</td>\n      <td>1601.230047</td>\n      <td>2776.171769</td>\n    </tr>\n  </tbody>\n</table>\n<p>8760 rows × 28 columns</p>\n</div>"
     },
     "execution_count": 33,
     "metadata": {},
     "output_type": "execute_result"
    }
   ],
   "source": [
    "base_load['utc_timestamp'] = base_load.apply(lambda r: update_timestamp(r), axis=1)\n",
    "base_load.set_index('utc_timestamp', inplace=True)\n",
    "base_load"
   ],
   "metadata": {
    "collapsed": false,
    "pycharm": {
     "name": "#%%\n"
    }
   }
  },
  {
   "cell_type": "markdown",
   "source": [
    "# When2Heat Dataset - Import and Cleaning"
   ],
   "metadata": {
    "collapsed": false,
    "pycharm": {
     "name": "#%% md\n"
    }
   }
  },
  {
   "cell_type": "code",
   "execution_count": 34,
   "outputs": [
    {
     "data": {
      "text/plain": "          utc_timestamp        cet_cest_timestamp  AT_COP_ASHP_floor  \\\n0  2007-12-31T22:00:00Z  2007-12-31T23:00:00+0100               2.32   \n1  2007-12-31T23:00:00Z  2008-01-01T00:00:00+0100               2.32   \n2  2008-01-01T00:00:00Z  2008-01-01T01:00:00+0100               2.31   \n3  2008-01-01T01:00:00Z  2008-01-01T02:00:00+0100               2.30   \n4  2008-01-01T02:00:00Z  2008-01-01T03:00:00+0100               2.29   \n\n   AT_COP_ASHP_radiator  AT_COP_ASHP_water  AT_COP_GSHP_floor  \\\n0                  2.85               2.12               2.50   \n1                  2.85               2.12               2.50   \n2                  2.84               2.11               2.47   \n3                  2.82               2.11               2.44   \n4                  2.81               2.10               2.41   \n\n   AT_COP_GSHP_radiator  AT_COP_GSHP_water  AT_COP_WSHP_floor  \\\n0                  3.57               2.09               3.24   \n1                  3.57               2.09               3.24   \n2                  3.55               2.07               3.23   \n3                  3.51               2.06               3.20   \n4                  3.49               2.05               3.19   \n\n   AT_COP_WSHP_radiator  ...  SK_heat_demand_water  SK_heat_demand_water_COM  \\\n0                  4.53  ...                 128.0                      64.0   \n1                  4.53  ...                 128.0                      64.0   \n2                  4.52  ...                 150.0                      80.0   \n3                  4.51  ...                 147.0                      84.0   \n4                  4.50  ...                 163.0                      85.0   \n\n   SK_heat_demand_water_MFH  SK_heat_demand_water_SFH  \\\n0                      45.0                      19.0   \n1                      45.0                      19.0   \n2                      46.0                      23.0   \n3                      45.0                      19.0   \n4                      43.0                      35.0   \n\n   SK_heat_profile_space_COM  SK_heat_profile_space_MFH  \\\n0                      241.0                      177.0   \n1                      241.0                      177.0   \n2                      245.0                      180.0   \n3                      250.0                      182.0   \n4                      267.0                      197.0   \n\n   SK_heat_profile_space_SFH  SK_heat_profile_water_COM  \\\n0                      201.0                       66.0   \n1                      201.0                       66.0   \n2                      203.0                       83.0   \n3                      209.0                       86.0   \n4                      217.0                       88.0   \n\n   SK_heat_profile_water_MFH  SK_heat_profile_water_SFH  \n0                       68.0                       13.0  \n1                       68.0                       13.0  \n2                       71.0                       15.0  \n3                       68.0                       12.0  \n4                       66.0                       23.0  \n\n[5 rows x 656 columns]",
      "text/html": "<div>\n<style scoped>\n    .dataframe tbody tr th:only-of-type {\n        vertical-align: middle;\n    }\n\n    .dataframe tbody tr th {\n        vertical-align: top;\n    }\n\n    .dataframe thead th {\n        text-align: right;\n    }\n</style>\n<table border=\"1\" class=\"dataframe\">\n  <thead>\n    <tr style=\"text-align: right;\">\n      <th></th>\n      <th>utc_timestamp</th>\n      <th>cet_cest_timestamp</th>\n      <th>AT_COP_ASHP_floor</th>\n      <th>AT_COP_ASHP_radiator</th>\n      <th>AT_COP_ASHP_water</th>\n      <th>AT_COP_GSHP_floor</th>\n      <th>AT_COP_GSHP_radiator</th>\n      <th>AT_COP_GSHP_water</th>\n      <th>AT_COP_WSHP_floor</th>\n      <th>AT_COP_WSHP_radiator</th>\n      <th>...</th>\n      <th>SK_heat_demand_water</th>\n      <th>SK_heat_demand_water_COM</th>\n      <th>SK_heat_demand_water_MFH</th>\n      <th>SK_heat_demand_water_SFH</th>\n      <th>SK_heat_profile_space_COM</th>\n      <th>SK_heat_profile_space_MFH</th>\n      <th>SK_heat_profile_space_SFH</th>\n      <th>SK_heat_profile_water_COM</th>\n      <th>SK_heat_profile_water_MFH</th>\n      <th>SK_heat_profile_water_SFH</th>\n    </tr>\n  </thead>\n  <tbody>\n    <tr>\n      <th>0</th>\n      <td>2007-12-31T22:00:00Z</td>\n      <td>2007-12-31T23:00:00+0100</td>\n      <td>2.32</td>\n      <td>2.85</td>\n      <td>2.12</td>\n      <td>2.50</td>\n      <td>3.57</td>\n      <td>2.09</td>\n      <td>3.24</td>\n      <td>4.53</td>\n      <td>...</td>\n      <td>128.0</td>\n      <td>64.0</td>\n      <td>45.0</td>\n      <td>19.0</td>\n      <td>241.0</td>\n      <td>177.0</td>\n      <td>201.0</td>\n      <td>66.0</td>\n      <td>68.0</td>\n      <td>13.0</td>\n    </tr>\n    <tr>\n      <th>1</th>\n      <td>2007-12-31T23:00:00Z</td>\n      <td>2008-01-01T00:00:00+0100</td>\n      <td>2.32</td>\n      <td>2.85</td>\n      <td>2.12</td>\n      <td>2.50</td>\n      <td>3.57</td>\n      <td>2.09</td>\n      <td>3.24</td>\n      <td>4.53</td>\n      <td>...</td>\n      <td>128.0</td>\n      <td>64.0</td>\n      <td>45.0</td>\n      <td>19.0</td>\n      <td>241.0</td>\n      <td>177.0</td>\n      <td>201.0</td>\n      <td>66.0</td>\n      <td>68.0</td>\n      <td>13.0</td>\n    </tr>\n    <tr>\n      <th>2</th>\n      <td>2008-01-01T00:00:00Z</td>\n      <td>2008-01-01T01:00:00+0100</td>\n      <td>2.31</td>\n      <td>2.84</td>\n      <td>2.11</td>\n      <td>2.47</td>\n      <td>3.55</td>\n      <td>2.07</td>\n      <td>3.23</td>\n      <td>4.52</td>\n      <td>...</td>\n      <td>150.0</td>\n      <td>80.0</td>\n      <td>46.0</td>\n      <td>23.0</td>\n      <td>245.0</td>\n      <td>180.0</td>\n      <td>203.0</td>\n      <td>83.0</td>\n      <td>71.0</td>\n      <td>15.0</td>\n    </tr>\n    <tr>\n      <th>3</th>\n      <td>2008-01-01T01:00:00Z</td>\n      <td>2008-01-01T02:00:00+0100</td>\n      <td>2.30</td>\n      <td>2.82</td>\n      <td>2.11</td>\n      <td>2.44</td>\n      <td>3.51</td>\n      <td>2.06</td>\n      <td>3.20</td>\n      <td>4.51</td>\n      <td>...</td>\n      <td>147.0</td>\n      <td>84.0</td>\n      <td>45.0</td>\n      <td>19.0</td>\n      <td>250.0</td>\n      <td>182.0</td>\n      <td>209.0</td>\n      <td>86.0</td>\n      <td>68.0</td>\n      <td>12.0</td>\n    </tr>\n    <tr>\n      <th>4</th>\n      <td>2008-01-01T02:00:00Z</td>\n      <td>2008-01-01T03:00:00+0100</td>\n      <td>2.29</td>\n      <td>2.81</td>\n      <td>2.10</td>\n      <td>2.41</td>\n      <td>3.49</td>\n      <td>2.05</td>\n      <td>3.19</td>\n      <td>4.50</td>\n      <td>...</td>\n      <td>163.0</td>\n      <td>85.0</td>\n      <td>43.0</td>\n      <td>35.0</td>\n      <td>267.0</td>\n      <td>197.0</td>\n      <td>217.0</td>\n      <td>88.0</td>\n      <td>66.0</td>\n      <td>23.0</td>\n    </tr>\n  </tbody>\n</table>\n<p>5 rows × 656 columns</p>\n</div>"
     },
     "execution_count": 34,
     "metadata": {},
     "output_type": "execute_result"
    }
   ],
   "source": [
    "w2h = pd.read_csv(\"../data/when2heat.csv\", sep = \";\", decimal=\",\")\n",
    "w2h.head()"
   ],
   "metadata": {
    "collapsed": false,
    "pycharm": {
     "name": "#%%\n"
    }
   }
  },
  {
   "cell_type": "code",
   "execution_count": 35,
   "outputs": [],
   "source": [
    "w2h['utc_timestamp'] = pd.to_datetime(w2h['utc_timestamp'], format = '%Y-%m-%d %H:%M:%S').apply(lambda x: x.replace(tzinfo=None))"
   ],
   "metadata": {
    "collapsed": false,
    "pycharm": {
     "name": "#%%\n"
    }
   }
  },
  {
   "cell_type": "markdown",
   "source": [
    "While COP values run to 2020, heat demand data only extends through the end of 2015. Trim down to an 8-year period."
   ],
   "metadata": {
    "collapsed": false,
    "pycharm": {
     "name": "#%% md\n"
    }
   }
  },
  {
   "cell_type": "code",
   "execution_count": 36,
   "outputs": [
    {
     "data": {
      "text/plain": "        utc_timestamp        cet_cest_timestamp  AT_COP_ASHP_floor  \\\n2 2008-01-01 00:00:00  2008-01-01T01:00:00+0100               2.31   \n3 2008-01-01 01:00:00  2008-01-01T02:00:00+0100               2.30   \n4 2008-01-01 02:00:00  2008-01-01T03:00:00+0100               2.29   \n5 2008-01-01 03:00:00  2008-01-01T04:00:00+0100               2.29   \n6 2008-01-01 04:00:00  2008-01-01T05:00:00+0100               2.27   \n\n   AT_COP_ASHP_radiator  AT_COP_ASHP_water  AT_COP_GSHP_floor  \\\n2                  2.84               2.11               2.47   \n3                  2.82               2.11               2.44   \n4                  2.81               2.10               2.41   \n5                  2.82               2.10               2.41   \n6                  2.80               2.09               2.38   \n\n   AT_COP_GSHP_radiator  AT_COP_GSHP_water  AT_COP_WSHP_floor  \\\n2                  3.55               2.07               3.23   \n3                  3.51               2.06               3.20   \n4                  3.49               2.05               3.19   \n5                  3.48               2.04               3.19   \n6                  3.46               2.03               3.17   \n\n   AT_COP_WSHP_radiator  ...  SK_heat_demand_water  SK_heat_demand_water_COM  \\\n2                  4.52  ...                 150.0                      80.0   \n3                  4.51  ...                 147.0                      84.0   \n4                  4.50  ...                 163.0                      85.0   \n5                  4.50  ...                 268.0                     117.0   \n6                  4.49  ...                 540.0                     189.0   \n\n   SK_heat_demand_water_MFH  SK_heat_demand_water_SFH  \\\n2                      46.0                      23.0   \n3                      45.0                      19.0   \n4                      43.0                      35.0   \n5                      69.0                      81.0   \n6                      95.0                     256.0   \n\n   SK_heat_profile_space_COM  SK_heat_profile_space_MFH  \\\n2                      245.0                      180.0   \n3                      250.0                      182.0   \n4                      267.0                      197.0   \n5                      268.0                      230.0   \n6                      315.0                      343.0   \n\n   SK_heat_profile_space_SFH  SK_heat_profile_water_COM  \\\n2                      203.0                       83.0   \n3                      209.0                       86.0   \n4                      217.0                       88.0   \n5                      241.0                      121.0   \n6                      289.0                      196.0   \n\n   SK_heat_profile_water_MFH  SK_heat_profile_water_SFH  \n2                       71.0                       15.0  \n3                       68.0                       12.0  \n4                       66.0                       23.0  \n5                      105.0                       53.0  \n6                      144.0                      167.0  \n\n[5 rows x 656 columns]",
      "text/html": "<div>\n<style scoped>\n    .dataframe tbody tr th:only-of-type {\n        vertical-align: middle;\n    }\n\n    .dataframe tbody tr th {\n        vertical-align: top;\n    }\n\n    .dataframe thead th {\n        text-align: right;\n    }\n</style>\n<table border=\"1\" class=\"dataframe\">\n  <thead>\n    <tr style=\"text-align: right;\">\n      <th></th>\n      <th>utc_timestamp</th>\n      <th>cet_cest_timestamp</th>\n      <th>AT_COP_ASHP_floor</th>\n      <th>AT_COP_ASHP_radiator</th>\n      <th>AT_COP_ASHP_water</th>\n      <th>AT_COP_GSHP_floor</th>\n      <th>AT_COP_GSHP_radiator</th>\n      <th>AT_COP_GSHP_water</th>\n      <th>AT_COP_WSHP_floor</th>\n      <th>AT_COP_WSHP_radiator</th>\n      <th>...</th>\n      <th>SK_heat_demand_water</th>\n      <th>SK_heat_demand_water_COM</th>\n      <th>SK_heat_demand_water_MFH</th>\n      <th>SK_heat_demand_water_SFH</th>\n      <th>SK_heat_profile_space_COM</th>\n      <th>SK_heat_profile_space_MFH</th>\n      <th>SK_heat_profile_space_SFH</th>\n      <th>SK_heat_profile_water_COM</th>\n      <th>SK_heat_profile_water_MFH</th>\n      <th>SK_heat_profile_water_SFH</th>\n    </tr>\n  </thead>\n  <tbody>\n    <tr>\n      <th>2</th>\n      <td>2008-01-01 00:00:00</td>\n      <td>2008-01-01T01:00:00+0100</td>\n      <td>2.31</td>\n      <td>2.84</td>\n      <td>2.11</td>\n      <td>2.47</td>\n      <td>3.55</td>\n      <td>2.07</td>\n      <td>3.23</td>\n      <td>4.52</td>\n      <td>...</td>\n      <td>150.0</td>\n      <td>80.0</td>\n      <td>46.0</td>\n      <td>23.0</td>\n      <td>245.0</td>\n      <td>180.0</td>\n      <td>203.0</td>\n      <td>83.0</td>\n      <td>71.0</td>\n      <td>15.0</td>\n    </tr>\n    <tr>\n      <th>3</th>\n      <td>2008-01-01 01:00:00</td>\n      <td>2008-01-01T02:00:00+0100</td>\n      <td>2.30</td>\n      <td>2.82</td>\n      <td>2.11</td>\n      <td>2.44</td>\n      <td>3.51</td>\n      <td>2.06</td>\n      <td>3.20</td>\n      <td>4.51</td>\n      <td>...</td>\n      <td>147.0</td>\n      <td>84.0</td>\n      <td>45.0</td>\n      <td>19.0</td>\n      <td>250.0</td>\n      <td>182.0</td>\n      <td>209.0</td>\n      <td>86.0</td>\n      <td>68.0</td>\n      <td>12.0</td>\n    </tr>\n    <tr>\n      <th>4</th>\n      <td>2008-01-01 02:00:00</td>\n      <td>2008-01-01T03:00:00+0100</td>\n      <td>2.29</td>\n      <td>2.81</td>\n      <td>2.10</td>\n      <td>2.41</td>\n      <td>3.49</td>\n      <td>2.05</td>\n      <td>3.19</td>\n      <td>4.50</td>\n      <td>...</td>\n      <td>163.0</td>\n      <td>85.0</td>\n      <td>43.0</td>\n      <td>35.0</td>\n      <td>267.0</td>\n      <td>197.0</td>\n      <td>217.0</td>\n      <td>88.0</td>\n      <td>66.0</td>\n      <td>23.0</td>\n    </tr>\n    <tr>\n      <th>5</th>\n      <td>2008-01-01 03:00:00</td>\n      <td>2008-01-01T04:00:00+0100</td>\n      <td>2.29</td>\n      <td>2.82</td>\n      <td>2.10</td>\n      <td>2.41</td>\n      <td>3.48</td>\n      <td>2.04</td>\n      <td>3.19</td>\n      <td>4.50</td>\n      <td>...</td>\n      <td>268.0</td>\n      <td>117.0</td>\n      <td>69.0</td>\n      <td>81.0</td>\n      <td>268.0</td>\n      <td>230.0</td>\n      <td>241.0</td>\n      <td>121.0</td>\n      <td>105.0</td>\n      <td>53.0</td>\n    </tr>\n    <tr>\n      <th>6</th>\n      <td>2008-01-01 04:00:00</td>\n      <td>2008-01-01T05:00:00+0100</td>\n      <td>2.27</td>\n      <td>2.80</td>\n      <td>2.09</td>\n      <td>2.38</td>\n      <td>3.46</td>\n      <td>2.03</td>\n      <td>3.17</td>\n      <td>4.49</td>\n      <td>...</td>\n      <td>540.0</td>\n      <td>189.0</td>\n      <td>95.0</td>\n      <td>256.0</td>\n      <td>315.0</td>\n      <td>343.0</td>\n      <td>289.0</td>\n      <td>196.0</td>\n      <td>144.0</td>\n      <td>167.0</td>\n    </tr>\n  </tbody>\n</table>\n<p>5 rows × 656 columns</p>\n</div>"
     },
     "execution_count": 36,
     "metadata": {},
     "output_type": "execute_result"
    }
   ],
   "source": [
    "mask = (w2h['utc_timestamp'] >= '2008-01-01') & (w2h['utc_timestamp'] < '2016-01-01') & ~((w2h['utc_timestamp'].dt.month == 2) &(w2h['utc_timestamp'].dt.day ==29))\n",
    "w2h_trimmed = w2h.loc[mask]\n",
    "w2h_trimmed.head()"
   ],
   "metadata": {
    "collapsed": false,
    "pycharm": {
     "name": "#%%\n"
    }
   }
  },
  {
   "cell_type": "markdown",
   "source": [
    "### Section 1: Coefficient of Power"
   ],
   "metadata": {
    "collapsed": false,
    "pycharm": {
     "name": "#%% md\n"
    }
   }
  },
  {
   "cell_type": "code",
   "execution_count": 37,
   "outputs": [
    {
     "data": {
      "text/plain": "        utc_timestamp           variable   cop\n0 2008-01-01 00:00:00  AT_COP_ASHP_floor  2.31\n1 2008-01-01 01:00:00  AT_COP_ASHP_floor  2.30\n2 2008-01-01 02:00:00  AT_COP_ASHP_floor  2.29\n3 2008-01-01 03:00:00  AT_COP_ASHP_floor  2.29\n4 2008-01-01 04:00:00  AT_COP_ASHP_floor  2.27",
      "text/html": "<div>\n<style scoped>\n    .dataframe tbody tr th:only-of-type {\n        vertical-align: middle;\n    }\n\n    .dataframe tbody tr th {\n        vertical-align: top;\n    }\n\n    .dataframe thead th {\n        text-align: right;\n    }\n</style>\n<table border=\"1\" class=\"dataframe\">\n  <thead>\n    <tr style=\"text-align: right;\">\n      <th></th>\n      <th>utc_timestamp</th>\n      <th>variable</th>\n      <th>cop</th>\n    </tr>\n  </thead>\n  <tbody>\n    <tr>\n      <th>0</th>\n      <td>2008-01-01 00:00:00</td>\n      <td>AT_COP_ASHP_floor</td>\n      <td>2.31</td>\n    </tr>\n    <tr>\n      <th>1</th>\n      <td>2008-01-01 01:00:00</td>\n      <td>AT_COP_ASHP_floor</td>\n      <td>2.30</td>\n    </tr>\n    <tr>\n      <th>2</th>\n      <td>2008-01-01 02:00:00</td>\n      <td>AT_COP_ASHP_floor</td>\n      <td>2.29</td>\n    </tr>\n    <tr>\n      <th>3</th>\n      <td>2008-01-01 03:00:00</td>\n      <td>AT_COP_ASHP_floor</td>\n      <td>2.29</td>\n    </tr>\n    <tr>\n      <th>4</th>\n      <td>2008-01-01 04:00:00</td>\n      <td>AT_COP_ASHP_floor</td>\n      <td>2.27</td>\n    </tr>\n  </tbody>\n</table>\n</div>"
     },
     "execution_count": 37,
     "metadata": {},
     "output_type": "execute_result"
    }
   ],
   "source": [
    "cop = w2h_trimmed.filter(regex='utc_timestamp|_COP_')\\\n",
    "    .melt(id_vars = 'utc_timestamp', value_name = 'cop', var_name = 'variable')\n",
    "cop.head()"
   ],
   "metadata": {
    "collapsed": false,
    "pycharm": {
     "name": "#%%\n"
    }
   }
  },
  {
   "cell_type": "code",
   "execution_count": 38,
   "outputs": [
    {
     "data": {
      "text/plain": "        utc_timestamp           variable   cop geo deleteme heat_source  \\\n0 2008-01-01 00:00:00  AT_COP_ASHP_floor  2.31  AT      COP        ASHP   \n1 2008-01-01 01:00:00  AT_COP_ASHP_floor  2.30  AT      COP        ASHP   \n2 2008-01-01 02:00:00  AT_COP_ASHP_floor  2.29  AT      COP        ASHP   \n3 2008-01-01 03:00:00  AT_COP_ASHP_floor  2.29  AT      COP        ASHP   \n4 2008-01-01 04:00:00  AT_COP_ASHP_floor  2.27  AT      COP        ASHP   \n\n  heat_sink  \n0     space  \n1     space  \n2     space  \n3     space  \n4     space  ",
      "text/html": "<div>\n<style scoped>\n    .dataframe tbody tr th:only-of-type {\n        vertical-align: middle;\n    }\n\n    .dataframe tbody tr th {\n        vertical-align: top;\n    }\n\n    .dataframe thead th {\n        text-align: right;\n    }\n</style>\n<table border=\"1\" class=\"dataframe\">\n  <thead>\n    <tr style=\"text-align: right;\">\n      <th></th>\n      <th>utc_timestamp</th>\n      <th>variable</th>\n      <th>cop</th>\n      <th>geo</th>\n      <th>deleteme</th>\n      <th>heat_source</th>\n      <th>heat_sink</th>\n    </tr>\n  </thead>\n  <tbody>\n    <tr>\n      <th>0</th>\n      <td>2008-01-01 00:00:00</td>\n      <td>AT_COP_ASHP_floor</td>\n      <td>2.31</td>\n      <td>AT</td>\n      <td>COP</td>\n      <td>ASHP</td>\n      <td>space</td>\n    </tr>\n    <tr>\n      <th>1</th>\n      <td>2008-01-01 01:00:00</td>\n      <td>AT_COP_ASHP_floor</td>\n      <td>2.30</td>\n      <td>AT</td>\n      <td>COP</td>\n      <td>ASHP</td>\n      <td>space</td>\n    </tr>\n    <tr>\n      <th>2</th>\n      <td>2008-01-01 02:00:00</td>\n      <td>AT_COP_ASHP_floor</td>\n      <td>2.29</td>\n      <td>AT</td>\n      <td>COP</td>\n      <td>ASHP</td>\n      <td>space</td>\n    </tr>\n    <tr>\n      <th>3</th>\n      <td>2008-01-01 03:00:00</td>\n      <td>AT_COP_ASHP_floor</td>\n      <td>2.29</td>\n      <td>AT</td>\n      <td>COP</td>\n      <td>ASHP</td>\n      <td>space</td>\n    </tr>\n    <tr>\n      <th>4</th>\n      <td>2008-01-01 04:00:00</td>\n      <td>AT_COP_ASHP_floor</td>\n      <td>2.27</td>\n      <td>AT</td>\n      <td>COP</td>\n      <td>ASHP</td>\n      <td>space</td>\n    </tr>\n  </tbody>\n</table>\n</div>"
     },
     "execution_count": 38,
     "metadata": {},
     "output_type": "execute_result"
    }
   ],
   "source": [
    "cop[['geo','deleteme','heat_source','heat_sink']] = cop['variable'].str.split(pat='_', expand=True)\n",
    "\n",
    "cop.loc[cop.heat_sink.isin(['radiator','floor']), 'heat_sink'] = 'space'\n",
    "\n",
    "cop = cop[cop['heat_source'] != 'WSHP']\n",
    "\n",
    "cop.head()"
   ],
   "metadata": {
    "collapsed": false,
    "pycharm": {
     "name": "#%%\n"
    }
   }
  },
  {
   "cell_type": "code",
   "execution_count": 39,
   "outputs": [
    {
     "data": {
      "text/plain": "  utc_timestamp geo heat_source heat_sink    cop\n0    2008-01-01  AT        ASHP     space  2.575\n1    2008-01-01  AT        ASHP     water  2.110\n2    2008-01-01  AT        GSHP     space  3.010\n3    2008-01-01  AT        GSHP     water  2.070\n4    2008-01-01  BE        ASHP     space  3.250",
      "text/html": "<div>\n<style scoped>\n    .dataframe tbody tr th:only-of-type {\n        vertical-align: middle;\n    }\n\n    .dataframe tbody tr th {\n        vertical-align: top;\n    }\n\n    .dataframe thead th {\n        text-align: right;\n    }\n</style>\n<table border=\"1\" class=\"dataframe\">\n  <thead>\n    <tr style=\"text-align: right;\">\n      <th></th>\n      <th>utc_timestamp</th>\n      <th>geo</th>\n      <th>heat_source</th>\n      <th>heat_sink</th>\n      <th>cop</th>\n    </tr>\n  </thead>\n  <tbody>\n    <tr>\n      <th>0</th>\n      <td>2008-01-01</td>\n      <td>AT</td>\n      <td>ASHP</td>\n      <td>space</td>\n      <td>2.575</td>\n    </tr>\n    <tr>\n      <th>1</th>\n      <td>2008-01-01</td>\n      <td>AT</td>\n      <td>ASHP</td>\n      <td>water</td>\n      <td>2.110</td>\n    </tr>\n    <tr>\n      <th>2</th>\n      <td>2008-01-01</td>\n      <td>AT</td>\n      <td>GSHP</td>\n      <td>space</td>\n      <td>3.010</td>\n    </tr>\n    <tr>\n      <th>3</th>\n      <td>2008-01-01</td>\n      <td>AT</td>\n      <td>GSHP</td>\n      <td>water</td>\n      <td>2.070</td>\n    </tr>\n    <tr>\n      <th>4</th>\n      <td>2008-01-01</td>\n      <td>BE</td>\n      <td>ASHP</td>\n      <td>space</td>\n      <td>3.250</td>\n    </tr>\n  </tbody>\n</table>\n</div>"
     },
     "execution_count": 39,
     "metadata": {},
     "output_type": "execute_result"
    }
   ],
   "source": [
    "cop = cop.groupby(['utc_timestamp', 'geo', 'heat_source', 'heat_sink'])\\\n",
    "    .agg('mean').reset_index()\n",
    "\n",
    "cop.head()"
   ],
   "metadata": {
    "collapsed": false,
    "pycharm": {
     "name": "#%%\n"
    }
   }
  },
  {
   "cell_type": "code",
   "execution_count": 40,
   "outputs": [],
   "source": [
    "cop.loc[cop['heat_source']=='ASHP', 'cop'] *= ASHP_weight\n",
    "cop.loc[cop['heat_source']=='GSHP', 'cop'] *= (1-ASHP_weight)"
   ],
   "metadata": {
    "collapsed": false,
    "pycharm": {
     "name": "#%%\n"
    }
   }
  },
  {
   "cell_type": "code",
   "execution_count": 41,
   "outputs": [
    {
     "data": {
      "text/plain": "                                 cop\nutc_timestamp geo heat_sink         \n2008-01-01    AT  space      2.68375\n                  water      2.10000\n              BE  space      3.46000\n                  water      2.40000\n              BG  space      2.73625",
      "text/html": "<div>\n<style scoped>\n    .dataframe tbody tr th:only-of-type {\n        vertical-align: middle;\n    }\n\n    .dataframe tbody tr th {\n        vertical-align: top;\n    }\n\n    .dataframe thead th {\n        text-align: right;\n    }\n</style>\n<table border=\"1\" class=\"dataframe\">\n  <thead>\n    <tr style=\"text-align: right;\">\n      <th></th>\n      <th></th>\n      <th></th>\n      <th>cop</th>\n    </tr>\n    <tr>\n      <th>utc_timestamp</th>\n      <th>geo</th>\n      <th>heat_sink</th>\n      <th></th>\n    </tr>\n  </thead>\n  <tbody>\n    <tr>\n      <th rowspan=\"5\" valign=\"top\">2008-01-01</th>\n      <th rowspan=\"2\" valign=\"top\">AT</th>\n      <th>space</th>\n      <td>2.68375</td>\n    </tr>\n    <tr>\n      <th>water</th>\n      <td>2.10000</td>\n    </tr>\n    <tr>\n      <th rowspan=\"2\" valign=\"top\">BE</th>\n      <th>space</th>\n      <td>3.46000</td>\n    </tr>\n    <tr>\n      <th>water</th>\n      <td>2.40000</td>\n    </tr>\n    <tr>\n      <th>BG</th>\n      <th>space</th>\n      <td>2.73625</td>\n    </tr>\n  </tbody>\n</table>\n</div>"
     },
     "execution_count": 41,
     "metadata": {},
     "output_type": "execute_result"
    }
   ],
   "source": [
    "cop = cop.groupby(['utc_timestamp', 'geo', 'heat_sink'])\\\n",
    "    .aggregate('sum')\n",
    "\n",
    "cop.head()"
   ],
   "metadata": {
    "collapsed": false,
    "pycharm": {
     "name": "#%%\n"
    }
   }
  },
  {
   "cell_type": "markdown",
   "source": [
    "### Section 2: Heat Demand"
   ],
   "metadata": {
    "collapsed": false,
    "pycharm": {
     "name": "#%% md\n"
    }
   }
  },
  {
   "cell_type": "code",
   "execution_count": 42,
   "outputs": [
    {
     "data": {
      "text/plain": "        utc_timestamp              variable  heat_demand_MW\n0 2008-01-01 00:00:00  AT_heat_demand_space          9432.0\n1 2008-01-01 01:00:00  AT_heat_demand_space          9636.0\n2 2008-01-01 02:00:00  AT_heat_demand_space         10198.0\n3 2008-01-01 03:00:00  AT_heat_demand_space         10886.0\n4 2008-01-01 04:00:00  AT_heat_demand_space         13477.0",
      "text/html": "<div>\n<style scoped>\n    .dataframe tbody tr th:only-of-type {\n        vertical-align: middle;\n    }\n\n    .dataframe tbody tr th {\n        vertical-align: top;\n    }\n\n    .dataframe thead th {\n        text-align: right;\n    }\n</style>\n<table border=\"1\" class=\"dataframe\">\n  <thead>\n    <tr style=\"text-align: right;\">\n      <th></th>\n      <th>utc_timestamp</th>\n      <th>variable</th>\n      <th>heat_demand_MW</th>\n    </tr>\n  </thead>\n  <tbody>\n    <tr>\n      <th>0</th>\n      <td>2008-01-01 00:00:00</td>\n      <td>AT_heat_demand_space</td>\n      <td>9432.0</td>\n    </tr>\n    <tr>\n      <th>1</th>\n      <td>2008-01-01 01:00:00</td>\n      <td>AT_heat_demand_space</td>\n      <td>9636.0</td>\n    </tr>\n    <tr>\n      <th>2</th>\n      <td>2008-01-01 02:00:00</td>\n      <td>AT_heat_demand_space</td>\n      <td>10198.0</td>\n    </tr>\n    <tr>\n      <th>3</th>\n      <td>2008-01-01 03:00:00</td>\n      <td>AT_heat_demand_space</td>\n      <td>10886.0</td>\n    </tr>\n    <tr>\n      <th>4</th>\n      <td>2008-01-01 04:00:00</td>\n      <td>AT_heat_demand_space</td>\n      <td>13477.0</td>\n    </tr>\n  </tbody>\n</table>\n</div>"
     },
     "execution_count": 42,
     "metadata": {},
     "output_type": "execute_result"
    }
   ],
   "source": [
    "heat_demand = w2h_trimmed.filter(regex='utc_timestamp|_heat_demand_')\\\n",
    "    .melt(id_vars = 'utc_timestamp', value_name = 'heat_demand_MW', var_name = 'variable')\n",
    "\n",
    "heat_demand.head()"
   ],
   "metadata": {
    "collapsed": false,
    "pycharm": {
     "name": "#%%\n"
    }
   }
  },
  {
   "cell_type": "code",
   "execution_count": 43,
   "outputs": [
    {
     "data": {
      "text/plain": "        utc_timestamp geo heat_sink  heat_demand_MW\n0 2008-01-01 00:00:00  AT     space          9432.0\n1 2008-01-01 01:00:00  AT     space          9636.0\n2 2008-01-01 02:00:00  AT     space         10198.0\n3 2008-01-01 03:00:00  AT     space         10886.0\n4 2008-01-01 04:00:00  AT     space         13477.0",
      "text/html": "<div>\n<style scoped>\n    .dataframe tbody tr th:only-of-type {\n        vertical-align: middle;\n    }\n\n    .dataframe tbody tr th {\n        vertical-align: top;\n    }\n\n    .dataframe thead th {\n        text-align: right;\n    }\n</style>\n<table border=\"1\" class=\"dataframe\">\n  <thead>\n    <tr style=\"text-align: right;\">\n      <th></th>\n      <th>utc_timestamp</th>\n      <th>geo</th>\n      <th>heat_sink</th>\n      <th>heat_demand_MW</th>\n    </tr>\n  </thead>\n  <tbody>\n    <tr>\n      <th>0</th>\n      <td>2008-01-01 00:00:00</td>\n      <td>AT</td>\n      <td>space</td>\n      <td>9432.0</td>\n    </tr>\n    <tr>\n      <th>1</th>\n      <td>2008-01-01 01:00:00</td>\n      <td>AT</td>\n      <td>space</td>\n      <td>9636.0</td>\n    </tr>\n    <tr>\n      <th>2</th>\n      <td>2008-01-01 02:00:00</td>\n      <td>AT</td>\n      <td>space</td>\n      <td>10198.0</td>\n    </tr>\n    <tr>\n      <th>3</th>\n      <td>2008-01-01 03:00:00</td>\n      <td>AT</td>\n      <td>space</td>\n      <td>10886.0</td>\n    </tr>\n    <tr>\n      <th>4</th>\n      <td>2008-01-01 04:00:00</td>\n      <td>AT</td>\n      <td>space</td>\n      <td>13477.0</td>\n    </tr>\n  </tbody>\n</table>\n</div>"
     },
     "execution_count": 43,
     "metadata": {},
     "output_type": "execute_result"
    }
   ],
   "source": [
    "heat_demand[['geo','deleteme1','deleteme2','heat_sink','building_type']] = heat_demand['variable'].str.split(pat='_', expand=True)\n",
    "\n",
    "heat_demand = heat_demand[(heat_demand['building_type'].isnull()) & (heat_demand['heat_sink'] != \"total\")]\n",
    "\n",
    "heat_demand = heat_demand[['utc_timestamp', 'geo', 'heat_sink', 'heat_demand_MW']]\n",
    "\n",
    "heat_demand.head()"
   ],
   "metadata": {
    "collapsed": false,
    "pycharm": {
     "name": "#%%\n"
    }
   }
  },
  {
   "cell_type": "markdown",
   "source": [
    "Norway and Switzerland are missing heat demand information. Set them equal to Sweden and Austria, respectively, then re-scale according to their relative country populations"
   ],
   "metadata": {
    "collapsed": false,
    "pycharm": {
     "name": "#%% md\n"
    }
   }
  },
  {
   "cell_type": "code",
   "execution_count": 44,
   "outputs": [],
   "source": [
    "heat_demand_fill = heat_demand[heat_demand['geo'].isin(['AT','SE'])]\n",
    "\n",
    "heat_demand_fill.loc[heat_demand_fill['geo']=='AT', 'geo'] = 'CH'\n",
    "heat_demand_fill.loc[heat_demand_fill['geo']=='CH', 'heat_demand_MW'] *= (8.64/8.92)\n",
    "heat_demand_fill.loc[heat_demand_fill['geo']=='SE', 'geo'] = 'NO'\n",
    "heat_demand_fill.loc[heat_demand_fill['geo']=='NO', 'heat_demand_MW'] *= (5.38/10.35)"
   ],
   "metadata": {
    "collapsed": false,
    "pycharm": {
     "name": "#%%\n"
    }
   }
  },
  {
   "cell_type": "code",
   "execution_count": 45,
   "outputs": [],
   "source": [
    "heat_demand_filled = pd.concat([heat_demand, heat_demand_fill])"
   ],
   "metadata": {
    "collapsed": false,
    "pycharm": {
     "name": "#%%\n"
    }
   }
  },
  {
   "cell_type": "markdown",
   "source": [
    "### Section 3: Converting heat demand to electricity demand"
   ],
   "metadata": {
    "collapsed": false,
    "pycharm": {
     "name": "#%% md\n"
    }
   }
  },
  {
   "cell_type": "code",
   "execution_count": 46,
   "outputs": [
    {
     "data": {
      "text/plain": "  geo utc_timestamp heat_sink      cop  heat_demand_MW\n0  AT    2008-01-01     space  2.68375          9432.0\n1  AT    2008-01-01     water  2.10000           402.0\n2  BE    2008-01-01     space  3.46000         10995.0\n3  BE    2008-01-01     water  2.40000           491.0\n4  BG    2008-01-01     space  2.73625          2011.0",
      "text/html": "<div>\n<style scoped>\n    .dataframe tbody tr th:only-of-type {\n        vertical-align: middle;\n    }\n\n    .dataframe tbody tr th {\n        vertical-align: top;\n    }\n\n    .dataframe thead th {\n        text-align: right;\n    }\n</style>\n<table border=\"1\" class=\"dataframe\">\n  <thead>\n    <tr style=\"text-align: right;\">\n      <th></th>\n      <th>geo</th>\n      <th>utc_timestamp</th>\n      <th>heat_sink</th>\n      <th>cop</th>\n      <th>heat_demand_MW</th>\n    </tr>\n  </thead>\n  <tbody>\n    <tr>\n      <th>0</th>\n      <td>AT</td>\n      <td>2008-01-01</td>\n      <td>space</td>\n      <td>2.68375</td>\n      <td>9432.0</td>\n    </tr>\n    <tr>\n      <th>1</th>\n      <td>AT</td>\n      <td>2008-01-01</td>\n      <td>water</td>\n      <td>2.10000</td>\n      <td>402.0</td>\n    </tr>\n    <tr>\n      <th>2</th>\n      <td>BE</td>\n      <td>2008-01-01</td>\n      <td>space</td>\n      <td>3.46000</td>\n      <td>10995.0</td>\n    </tr>\n    <tr>\n      <th>3</th>\n      <td>BE</td>\n      <td>2008-01-01</td>\n      <td>water</td>\n      <td>2.40000</td>\n      <td>491.0</td>\n    </tr>\n    <tr>\n      <th>4</th>\n      <td>BG</td>\n      <td>2008-01-01</td>\n      <td>space</td>\n      <td>2.73625</td>\n      <td>2011.0</td>\n    </tr>\n  </tbody>\n</table>\n</div>"
     },
     "execution_count": 46,
     "metadata": {},
     "output_type": "execute_result"
    }
   ],
   "source": [
    "synthetic_load_heating = pd.merge(cop, heat_demand_filled, on = ['geo', 'utc_timestamp', 'heat_sink'])\n",
    "synthetic_load_heating.head()"
   ],
   "metadata": {
    "collapsed": false,
    "pycharm": {
     "name": "#%%\n"
    }
   }
  },
  {
   "cell_type": "markdown",
   "source": [
    "This section first converts heat demand to electricity demand. Then, it sums the electricity demand across space and water within a particular hour. Next, we convert all the years in the timestamps to 2020 and average over them. This means the final value is the average of a given hour across all the years in the data (2008-2015, unless otherwise updated)."
   ],
   "metadata": {
    "collapsed": false,
    "pycharm": {
     "name": "#%% md\n"
    }
   }
  },
  {
   "cell_type": "code",
   "execution_count": 47,
   "outputs": [],
   "source": [
    "synthetic_load_heating['elec_demand_MW'] = (synthetic_load_heating['heat_demand_MW'] / synthetic_load_heating['cop']) * pct_heat_elec\n",
    "\n",
    "synthetic_load_heating = synthetic_load_heating.groupby(['utc_timestamp', 'geo'])\\\n",
    "    .aggregate('sum').reset_index()"
   ],
   "metadata": {
    "collapsed": false,
    "pycharm": {
     "name": "#%%\n"
    }
   }
  },
  {
   "cell_type": "code",
   "execution_count": 48,
   "outputs": [
    {
     "data": {
      "text/plain": "  utc_timestamp geo      cop  heat_demand_MW  elec_demand_MW\n0    2008-01-01  AT  4.78375     9834.000000     1297.069865\n1    2008-01-01  BE  5.86000    11486.000000     1183.815149\n2    2008-01-01  BG  4.83875     2173.000000      284.199508\n3    2008-01-01  CH  4.70500     9525.309417     1287.989356\n4    2008-01-01  CZ  5.09125     9449.000000     1147.075390",
      "text/html": "<div>\n<style scoped>\n    .dataframe tbody tr th:only-of-type {\n        vertical-align: middle;\n    }\n\n    .dataframe tbody tr th {\n        vertical-align: top;\n    }\n\n    .dataframe thead th {\n        text-align: right;\n    }\n</style>\n<table border=\"1\" class=\"dataframe\">\n  <thead>\n    <tr style=\"text-align: right;\">\n      <th></th>\n      <th>utc_timestamp</th>\n      <th>geo</th>\n      <th>cop</th>\n      <th>heat_demand_MW</th>\n      <th>elec_demand_MW</th>\n    </tr>\n  </thead>\n  <tbody>\n    <tr>\n      <th>0</th>\n      <td>2008-01-01</td>\n      <td>AT</td>\n      <td>4.78375</td>\n      <td>9834.000000</td>\n      <td>1297.069865</td>\n    </tr>\n    <tr>\n      <th>1</th>\n      <td>2008-01-01</td>\n      <td>BE</td>\n      <td>5.86000</td>\n      <td>11486.000000</td>\n      <td>1183.815149</td>\n    </tr>\n    <tr>\n      <th>2</th>\n      <td>2008-01-01</td>\n      <td>BG</td>\n      <td>4.83875</td>\n      <td>2173.000000</td>\n      <td>284.199508</td>\n    </tr>\n    <tr>\n      <th>3</th>\n      <td>2008-01-01</td>\n      <td>CH</td>\n      <td>4.70500</td>\n      <td>9525.309417</td>\n      <td>1287.989356</td>\n    </tr>\n    <tr>\n      <th>4</th>\n      <td>2008-01-01</td>\n      <td>CZ</td>\n      <td>5.09125</td>\n      <td>9449.000000</td>\n      <td>1147.075390</td>\n    </tr>\n  </tbody>\n</table>\n</div>"
     },
     "execution_count": 48,
     "metadata": {},
     "output_type": "execute_result"
    }
   ],
   "source": [
    "synthetic_load_heating.head()"
   ],
   "metadata": {
    "collapsed": false,
    "pycharm": {
     "name": "#%%\n"
    }
   }
  },
  {
   "cell_type": "code",
   "execution_count": 49,
   "outputs": [],
   "source": [
    "synthetic_load_heating['utc_timestamp'] = synthetic_load_heating.apply(lambda r: update_timestamp(r), axis=1)\n",
    "\n",
    "synthetic_load_heating = synthetic_load_heating.groupby(['utc_timestamp', 'geo'])\\\n",
    "    .aggregate('mean').reset_index()"
   ],
   "metadata": {
    "collapsed": false,
    "pycharm": {
     "name": "#%%\n"
    }
   }
  },
  {
   "cell_type": "code",
   "execution_count": 50,
   "outputs": [],
   "source": [
    "synthetic_load_heating = synthetic_load_heating.pivot(index='utc_timestamp', columns='geo', values='elec_demand_MW').reset_index()\n",
    "synthetic_load_heating.set_index('utc_timestamp', inplace=True)"
   ],
   "metadata": {
    "collapsed": false,
    "pycharm": {
     "name": "#%%\n"
    }
   }
  },
  {
   "cell_type": "code",
   "execution_count": 51,
   "outputs": [
    {
     "data": {
      "text/plain": "geo                           AT           BE          BG           CH  \\\nutc_timestamp                                                            \n2030-01-01 00:00:00  1040.077829  1089.657982  276.315398   976.409440   \n2030-01-01 01:00:00  1063.484953  1120.631058  295.983185   996.630370   \n2030-01-01 02:00:00  1134.518768  1214.727886  346.832281  1060.773674   \n2030-01-01 03:00:00  1282.724082  1420.647836  489.373998  1198.049763   \n2030-01-01 04:00:00  1717.780087  1916.716986  596.221685  1607.680625   \n...                          ...          ...         ...          ...   \n2030-12-31 19:00:00  1695.597248  1885.601006  437.031736  1557.651413   \n2030-12-31 20:00:00  1561.551946  1717.203475  367.850008  1440.030354   \n2030-12-31 21:00:00  1315.141228  1379.381597  297.945479  1211.934145   \n2030-12-31 22:00:00  1018.113679  1066.505916  275.313322   939.137923   \n2030-12-31 23:00:00  1018.113679  1066.505916  279.056768   939.137923   \n\ngeo                           CZ            DE           DK          EE  \\\nutc_timestamp                                                             \n2030-01-01 00:00:00  1015.986831   8826.313233   574.858606  138.195269   \n2030-01-01 01:00:00  1036.688827   9029.353482   585.026305  147.076004   \n2030-01-01 02:00:00  1106.176991   9696.335325   630.633851  166.156145   \n2030-01-01 03:00:00  1258.132666  11229.212949   741.420132  224.539231   \n2030-01-01 04:00:00  1687.888761  15140.947155  1028.368282  270.711684   \n...                          ...           ...          ...         ...   \n2030-12-31 19:00:00  1747.826829  15129.526371  1021.598780  192.959832   \n2030-12-31 20:00:00  1606.772084  13795.401237   921.493452  157.814497   \n2030-12-31 21:00:00  1343.234176  11269.653603   737.232909  130.455131   \n2030-12-31 22:00:00  1025.009820   8592.315687   558.434227  127.897934   \n2030-12-31 23:00:00  1025.009820   8592.315687   558.434227  128.735116   \n\ngeo                           ES           FI  ...          LU          LV  \\\nutc_timestamp                                  ...                           \n2030-01-01 00:00:00  1137.599596  1042.440600  ...   83.099474  188.397406   \n2030-01-01 01:00:00  1165.498088  1101.110837  ...   85.990535  200.596362   \n2030-01-01 02:00:00  1303.598474  1222.106195  ...   92.848557  228.239958   \n2030-01-01 03:00:00  1684.175625  1640.380837  ...  106.199507  309.817682   \n2030-01-01 04:00:00  2500.974459  2036.529296  ...  139.846641  371.793755   \n...                          ...          ...  ...         ...         ...   \n2030-12-31 19:00:00  2212.148727  1409.628616  ...  132.883066  268.104490   \n2030-12-31 20:00:00  2054.884646  1179.933990  ...  122.004645  217.843249   \n2030-12-31 21:00:00  1604.227625   984.485905  ...   99.813895  179.506220   \n2030-12-31 22:00:00  1087.229001   974.929804  ...   79.826575  173.535671   \n2030-12-31 23:00:00  1087.229001   980.742904  ...   79.826575  175.019695   \n\ngeo                           NL           NO           PL          PT  \\\nutc_timestamp                                                            \n2030-01-01 00:00:00  1458.608518   632.637047  2633.526687  109.884363   \n2030-01-01 01:00:00  1494.432770   641.578832  2689.366554  118.475328   \n2030-01-01 02:00:00  1618.169308   681.362054  2880.598756  121.837645   \n2030-01-01 03:00:00  1901.797087   775.428349  3321.254842  137.338768   \n2030-01-01 04:00:00  2595.333154  1056.767009  4548.076030  183.340524   \n...                          ...          ...          ...         ...   \n2030-12-31 19:00:00  2609.626796  1102.696476  4667.226050  248.512456   \n2030-12-31 20:00:00  2369.981596  1002.723390  4285.880326  250.706865   \n2030-12-31 21:00:00  1908.349851   818.241540  3535.418459  231.750919   \n2030-12-31 22:00:00  1428.383979   632.355576  2680.119216  144.819358   \n2030-12-31 23:00:00  1428.383979   632.355576  2680.119216  117.331393   \n\ngeo                           RO           SE          SI          SK  \nutc_timestamp                                                          \n2030-01-01 00:00:00  1198.211006  1224.929276  171.857946  482.014593  \n2030-01-01 01:00:00  1272.709412  1245.500857  175.570545  491.713995  \n2030-01-01 02:00:00  1425.417139  1324.276856  188.639323  522.443142  \n2030-01-01 03:00:00  1911.555108  1505.788004  218.292313  575.365273  \n2030-01-01 04:00:00  2367.555219  2045.056819  300.929528  753.444812  \n...                          ...          ...         ...         ...  \n2030-12-31 19:00:00  1806.978974  2078.012144  294.764423  748.244948  \n2030-12-31 20:00:00  1533.473590  1898.217667  268.237132  695.575390  \n2030-12-31 21:00:00  1270.561127  1572.454964  224.587608  600.697012  \n2030-12-31 22:00:00  1162.884412  1226.530439  168.830090  466.970358  \n2030-12-31 23:00:00  1170.782638  1226.530439  168.830090  466.970358  \n\n[8760 rows x 28 columns]",
      "text/html": "<div>\n<style scoped>\n    .dataframe tbody tr th:only-of-type {\n        vertical-align: middle;\n    }\n\n    .dataframe tbody tr th {\n        vertical-align: top;\n    }\n\n    .dataframe thead th {\n        text-align: right;\n    }\n</style>\n<table border=\"1\" class=\"dataframe\">\n  <thead>\n    <tr style=\"text-align: right;\">\n      <th>geo</th>\n      <th>AT</th>\n      <th>BE</th>\n      <th>BG</th>\n      <th>CH</th>\n      <th>CZ</th>\n      <th>DE</th>\n      <th>DK</th>\n      <th>EE</th>\n      <th>ES</th>\n      <th>FI</th>\n      <th>...</th>\n      <th>LU</th>\n      <th>LV</th>\n      <th>NL</th>\n      <th>NO</th>\n      <th>PL</th>\n      <th>PT</th>\n      <th>RO</th>\n      <th>SE</th>\n      <th>SI</th>\n      <th>SK</th>\n    </tr>\n    <tr>\n      <th>utc_timestamp</th>\n      <th></th>\n      <th></th>\n      <th></th>\n      <th></th>\n      <th></th>\n      <th></th>\n      <th></th>\n      <th></th>\n      <th></th>\n      <th></th>\n      <th></th>\n      <th></th>\n      <th></th>\n      <th></th>\n      <th></th>\n      <th></th>\n      <th></th>\n      <th></th>\n      <th></th>\n      <th></th>\n      <th></th>\n    </tr>\n  </thead>\n  <tbody>\n    <tr>\n      <th>2030-01-01 00:00:00</th>\n      <td>1040.077829</td>\n      <td>1089.657982</td>\n      <td>276.315398</td>\n      <td>976.409440</td>\n      <td>1015.986831</td>\n      <td>8826.313233</td>\n      <td>574.858606</td>\n      <td>138.195269</td>\n      <td>1137.599596</td>\n      <td>1042.440600</td>\n      <td>...</td>\n      <td>83.099474</td>\n      <td>188.397406</td>\n      <td>1458.608518</td>\n      <td>632.637047</td>\n      <td>2633.526687</td>\n      <td>109.884363</td>\n      <td>1198.211006</td>\n      <td>1224.929276</td>\n      <td>171.857946</td>\n      <td>482.014593</td>\n    </tr>\n    <tr>\n      <th>2030-01-01 01:00:00</th>\n      <td>1063.484953</td>\n      <td>1120.631058</td>\n      <td>295.983185</td>\n      <td>996.630370</td>\n      <td>1036.688827</td>\n      <td>9029.353482</td>\n      <td>585.026305</td>\n      <td>147.076004</td>\n      <td>1165.498088</td>\n      <td>1101.110837</td>\n      <td>...</td>\n      <td>85.990535</td>\n      <td>200.596362</td>\n      <td>1494.432770</td>\n      <td>641.578832</td>\n      <td>2689.366554</td>\n      <td>118.475328</td>\n      <td>1272.709412</td>\n      <td>1245.500857</td>\n      <td>175.570545</td>\n      <td>491.713995</td>\n    </tr>\n    <tr>\n      <th>2030-01-01 02:00:00</th>\n      <td>1134.518768</td>\n      <td>1214.727886</td>\n      <td>346.832281</td>\n      <td>1060.773674</td>\n      <td>1106.176991</td>\n      <td>9696.335325</td>\n      <td>630.633851</td>\n      <td>166.156145</td>\n      <td>1303.598474</td>\n      <td>1222.106195</td>\n      <td>...</td>\n      <td>92.848557</td>\n      <td>228.239958</td>\n      <td>1618.169308</td>\n      <td>681.362054</td>\n      <td>2880.598756</td>\n      <td>121.837645</td>\n      <td>1425.417139</td>\n      <td>1324.276856</td>\n      <td>188.639323</td>\n      <td>522.443142</td>\n    </tr>\n    <tr>\n      <th>2030-01-01 03:00:00</th>\n      <td>1282.724082</td>\n      <td>1420.647836</td>\n      <td>489.373998</td>\n      <td>1198.049763</td>\n      <td>1258.132666</td>\n      <td>11229.212949</td>\n      <td>741.420132</td>\n      <td>224.539231</td>\n      <td>1684.175625</td>\n      <td>1640.380837</td>\n      <td>...</td>\n      <td>106.199507</td>\n      <td>309.817682</td>\n      <td>1901.797087</td>\n      <td>775.428349</td>\n      <td>3321.254842</td>\n      <td>137.338768</td>\n      <td>1911.555108</td>\n      <td>1505.788004</td>\n      <td>218.292313</td>\n      <td>575.365273</td>\n    </tr>\n    <tr>\n      <th>2030-01-01 04:00:00</th>\n      <td>1717.780087</td>\n      <td>1916.716986</td>\n      <td>596.221685</td>\n      <td>1607.680625</td>\n      <td>1687.888761</td>\n      <td>15140.947155</td>\n      <td>1028.368282</td>\n      <td>270.711684</td>\n      <td>2500.974459</td>\n      <td>2036.529296</td>\n      <td>...</td>\n      <td>139.846641</td>\n      <td>371.793755</td>\n      <td>2595.333154</td>\n      <td>1056.767009</td>\n      <td>4548.076030</td>\n      <td>183.340524</td>\n      <td>2367.555219</td>\n      <td>2045.056819</td>\n      <td>300.929528</td>\n      <td>753.444812</td>\n    </tr>\n    <tr>\n      <th>...</th>\n      <td>...</td>\n      <td>...</td>\n      <td>...</td>\n      <td>...</td>\n      <td>...</td>\n      <td>...</td>\n      <td>...</td>\n      <td>...</td>\n      <td>...</td>\n      <td>...</td>\n      <td>...</td>\n      <td>...</td>\n      <td>...</td>\n      <td>...</td>\n      <td>...</td>\n      <td>...</td>\n      <td>...</td>\n      <td>...</td>\n      <td>...</td>\n      <td>...</td>\n      <td>...</td>\n    </tr>\n    <tr>\n      <th>2030-12-31 19:00:00</th>\n      <td>1695.597248</td>\n      <td>1885.601006</td>\n      <td>437.031736</td>\n      <td>1557.651413</td>\n      <td>1747.826829</td>\n      <td>15129.526371</td>\n      <td>1021.598780</td>\n      <td>192.959832</td>\n      <td>2212.148727</td>\n      <td>1409.628616</td>\n      <td>...</td>\n      <td>132.883066</td>\n      <td>268.104490</td>\n      <td>2609.626796</td>\n      <td>1102.696476</td>\n      <td>4667.226050</td>\n      <td>248.512456</td>\n      <td>1806.978974</td>\n      <td>2078.012144</td>\n      <td>294.764423</td>\n      <td>748.244948</td>\n    </tr>\n    <tr>\n      <th>2030-12-31 20:00:00</th>\n      <td>1561.551946</td>\n      <td>1717.203475</td>\n      <td>367.850008</td>\n      <td>1440.030354</td>\n      <td>1606.772084</td>\n      <td>13795.401237</td>\n      <td>921.493452</td>\n      <td>157.814497</td>\n      <td>2054.884646</td>\n      <td>1179.933990</td>\n      <td>...</td>\n      <td>122.004645</td>\n      <td>217.843249</td>\n      <td>2369.981596</td>\n      <td>1002.723390</td>\n      <td>4285.880326</td>\n      <td>250.706865</td>\n      <td>1533.473590</td>\n      <td>1898.217667</td>\n      <td>268.237132</td>\n      <td>695.575390</td>\n    </tr>\n    <tr>\n      <th>2030-12-31 21:00:00</th>\n      <td>1315.141228</td>\n      <td>1379.381597</td>\n      <td>297.945479</td>\n      <td>1211.934145</td>\n      <td>1343.234176</td>\n      <td>11269.653603</td>\n      <td>737.232909</td>\n      <td>130.455131</td>\n      <td>1604.227625</td>\n      <td>984.485905</td>\n      <td>...</td>\n      <td>99.813895</td>\n      <td>179.506220</td>\n      <td>1908.349851</td>\n      <td>818.241540</td>\n      <td>3535.418459</td>\n      <td>231.750919</td>\n      <td>1270.561127</td>\n      <td>1572.454964</td>\n      <td>224.587608</td>\n      <td>600.697012</td>\n    </tr>\n    <tr>\n      <th>2030-12-31 22:00:00</th>\n      <td>1018.113679</td>\n      <td>1066.505916</td>\n      <td>275.313322</td>\n      <td>939.137923</td>\n      <td>1025.009820</td>\n      <td>8592.315687</td>\n      <td>558.434227</td>\n      <td>127.897934</td>\n      <td>1087.229001</td>\n      <td>974.929804</td>\n      <td>...</td>\n      <td>79.826575</td>\n      <td>173.535671</td>\n      <td>1428.383979</td>\n      <td>632.355576</td>\n      <td>2680.119216</td>\n      <td>144.819358</td>\n      <td>1162.884412</td>\n      <td>1226.530439</td>\n      <td>168.830090</td>\n      <td>466.970358</td>\n    </tr>\n    <tr>\n      <th>2030-12-31 23:00:00</th>\n      <td>1018.113679</td>\n      <td>1066.505916</td>\n      <td>279.056768</td>\n      <td>939.137923</td>\n      <td>1025.009820</td>\n      <td>8592.315687</td>\n      <td>558.434227</td>\n      <td>128.735116</td>\n      <td>1087.229001</td>\n      <td>980.742904</td>\n      <td>...</td>\n      <td>79.826575</td>\n      <td>175.019695</td>\n      <td>1428.383979</td>\n      <td>632.355576</td>\n      <td>2680.119216</td>\n      <td>117.331393</td>\n      <td>1170.782638</td>\n      <td>1226.530439</td>\n      <td>168.830090</td>\n      <td>466.970358</td>\n    </tr>\n  </tbody>\n</table>\n<p>8760 rows × 28 columns</p>\n</div>"
     },
     "execution_count": 51,
     "metadata": {},
     "output_type": "execute_result"
    }
   ],
   "source": [
    "synthetic_load_heating"
   ],
   "metadata": {
    "collapsed": false,
    "pycharm": {
     "name": "#%%\n"
    }
   }
  },
  {
   "cell_type": "markdown",
   "source": [
    "### Section 4: Importing transportation demand"
   ],
   "metadata": {
    "collapsed": false,
    "pycharm": {
     "name": "#%% md\n"
    }
   }
  },
  {
   "cell_type": "code",
   "execution_count": 52,
   "outputs": [],
   "source": [
    "synthetic_load_transport = pd.read_csv(\"../data/synthetic_transport_\" + str(curve_year) + \".csv\")"
   ],
   "metadata": {
    "collapsed": false,
    "pycharm": {
     "name": "#%%\n"
    }
   }
  },
  {
   "cell_type": "code",
   "execution_count": 53,
   "outputs": [],
   "source": [
    "synthetic_load_transport['utc_timestamp'] = synthetic_load_transport.apply(lambda r: update_timestamp(r), axis=1)"
   ],
   "metadata": {
    "collapsed": false,
    "pycharm": {
     "name": "#%%\n"
    }
   }
  },
  {
   "cell_type": "code",
   "execution_count": 54,
   "outputs": [
    {
     "data": {
      "text/plain": "                             AT           BE          BG          CH  \\\nutc_timestamp                                                          \n2030-01-01 00:00:00  292.466282   384.130417   41.572891  308.384514   \n2030-01-01 01:00:00  193.786831   254.577159   27.542315  204.341584   \n2030-01-01 02:00:00  123.940011   162.905968   17.609308  130.702324   \n2030-01-01 03:00:00   83.697050   110.123244   11.883943   88.279043   \n2030-01-01 04:00:00   63.301405    83.423854    8.978733   66.785443   \n...                         ...          ...         ...         ...   \n2030-12-31 19:00:00  779.323430  1088.974273  106.311443  830.692737   \n2030-12-31 20:00:00  718.217109  1003.588401   97.975621  765.558577   \n2030-12-31 21:00:00  637.317692   890.544983   86.939723  679.326654   \n2030-12-31 22:00:00  557.871945   779.532826   76.102128  594.644220   \n2030-12-31 23:00:00  436.922099   610.525627   59.602749  465.721933   \n\n                             CZ           DE          DK         EE  \\\nutc_timestamp                                                         \n2030-01-01 00:00:00  211.277837  2344.042848  211.419874  31.913688   \n2030-01-01 01:00:00  139.992205  1553.390311  140.131419  21.146223   \n2030-01-01 02:00:00   89.535395   993.880234   89.696443  13.525037   \n2030-01-01 03:00:00   60.464488   671.665001   60.666943   9.134241   \n2030-01-01 04:00:00   45.731428   508.589273   45.997868   6.909272   \n...                         ...          ...         ...        ...   \n2030-12-31 19:00:00  563.550786  6534.033901  618.460360  85.472501   \n2030-12-31 20:00:00  519.363079  6021.703905  569.967224  78.770649   \n2030-12-31 21:00:00  460.862426  5343.423855  505.766559  69.897984   \n2030-12-31 22:00:00  403.412962  4677.331723  442.719506  61.184751   \n2030-12-31 23:00:00  315.950712  3663.259308  346.735371  47.919545   \n\n                              ES          FI  ...          LU         LV  \\\nutc_timestamp                                 ...                          \n2030-01-01 00:00:00   445.695720  112.080462  ...   44.903850   8.884863   \n2030-01-01 01:00:00   295.472207   74.258156  ...   29.756892   5.887323   \n2030-01-01 02:00:00   189.224274   47.483860  ...   19.037653   3.765752   \n2030-01-01 03:00:00   128.108310   32.053837  ...   12.864086   2.543549   \n2030-01-01 04:00:00    97.282922   24.228128  ...    9.738870   1.924362   \n...                          ...         ...  ...         ...        ...   \n2030-12-31 19:00:00  1376.542415  291.583991  ...  124.253094  23.981133   \n2030-12-31 20:00:00  1268.608483  268.721051  ...  114.510477  22.100786   \n2030-12-31 21:00:00  1125.713409  238.452520  ...  101.612106  19.611371   \n2030-12-31 22:00:00   985.385996  208.727881  ...   88.945504  17.166687   \n2030-12-31 23:00:00   771.748645  163.474476  ...   69.661607  13.444851   \n\n                              NL           NO          PL          PT  \\\nutc_timestamp                                                           \n2030-01-01 00:00:00   502.793533   444.952998  307.973084  167.196001   \n2030-01-01 01:00:00   333.242406   294.841581  204.064390  110.855656   \n2030-01-01 02:00:00   213.281040   188.599808  130.517722   71.015328   \n2030-01-01 03:00:00   144.223958   127.398864   88.144861   48.107157   \n2030-01-01 04:00:00   109.314273    96.398363   66.672445   36.565976   \n...                          ...          ...         ...         ...   \n2030-12-31 19:00:00  1453.056816  1207.103042  824.055681  532.991758   \n2030-12-31 20:00:00  1339.123432  1112.454758  759.441929  491.200168   \n2030-12-31 21:00:00  1188.285609   987.148718  673.898980  435.871763   \n2030-12-31 22:00:00  1040.158169   864.094285  589.893141  381.537546   \n2030-12-31 23:00:00   814.645897   676.753675  462.000915  298.818012   \n\n                             RO           SE          SI          SK  \nutc_timestamp                                                         \n2030-01-01 00:00:00   63.951663   550.556308   66.093905   41.650838  \n2030-01-01 01:00:00   42.368411   364.848320   43.794088   27.594298  \n2030-01-01 02:00:00   27.088460   233.428963   28.010237   17.643091  \n2030-01-01 03:00:00   18.281135   157.743726   18.916572   11.907454  \n2030-01-01 04:00:00   13.812065   119.435260   14.308327    8.997359  \n...                         ...          ...         ...         ...  \n2030-12-31 19:00:00  163.553297  1530.171772  176.803102  106.925297  \n2030-12-31 20:00:00  150.729173  1410.191847  162.940068   98.541344  \n2030-12-31 21:00:00  133.751156  1251.348933  144.586625   87.441723  \n2030-12-31 22:00:00  117.078215  1095.360244  126.562973   76.541550  \n2030-12-31 23:00:00   91.694984   857.879844   99.123393   59.946902  \n\n[8760 rows x 28 columns]",
      "text/html": "<div>\n<style scoped>\n    .dataframe tbody tr th:only-of-type {\n        vertical-align: middle;\n    }\n\n    .dataframe tbody tr th {\n        vertical-align: top;\n    }\n\n    .dataframe thead th {\n        text-align: right;\n    }\n</style>\n<table border=\"1\" class=\"dataframe\">\n  <thead>\n    <tr style=\"text-align: right;\">\n      <th></th>\n      <th>AT</th>\n      <th>BE</th>\n      <th>BG</th>\n      <th>CH</th>\n      <th>CZ</th>\n      <th>DE</th>\n      <th>DK</th>\n      <th>EE</th>\n      <th>ES</th>\n      <th>FI</th>\n      <th>...</th>\n      <th>LU</th>\n      <th>LV</th>\n      <th>NL</th>\n      <th>NO</th>\n      <th>PL</th>\n      <th>PT</th>\n      <th>RO</th>\n      <th>SE</th>\n      <th>SI</th>\n      <th>SK</th>\n    </tr>\n    <tr>\n      <th>utc_timestamp</th>\n      <th></th>\n      <th></th>\n      <th></th>\n      <th></th>\n      <th></th>\n      <th></th>\n      <th></th>\n      <th></th>\n      <th></th>\n      <th></th>\n      <th></th>\n      <th></th>\n      <th></th>\n      <th></th>\n      <th></th>\n      <th></th>\n      <th></th>\n      <th></th>\n      <th></th>\n      <th></th>\n      <th></th>\n    </tr>\n  </thead>\n  <tbody>\n    <tr>\n      <th>2030-01-01 00:00:00</th>\n      <td>292.466282</td>\n      <td>384.130417</td>\n      <td>41.572891</td>\n      <td>308.384514</td>\n      <td>211.277837</td>\n      <td>2344.042848</td>\n      <td>211.419874</td>\n      <td>31.913688</td>\n      <td>445.695720</td>\n      <td>112.080462</td>\n      <td>...</td>\n      <td>44.903850</td>\n      <td>8.884863</td>\n      <td>502.793533</td>\n      <td>444.952998</td>\n      <td>307.973084</td>\n      <td>167.196001</td>\n      <td>63.951663</td>\n      <td>550.556308</td>\n      <td>66.093905</td>\n      <td>41.650838</td>\n    </tr>\n    <tr>\n      <th>2030-01-01 01:00:00</th>\n      <td>193.786831</td>\n      <td>254.577159</td>\n      <td>27.542315</td>\n      <td>204.341584</td>\n      <td>139.992205</td>\n      <td>1553.390311</td>\n      <td>140.131419</td>\n      <td>21.146223</td>\n      <td>295.472207</td>\n      <td>74.258156</td>\n      <td>...</td>\n      <td>29.756892</td>\n      <td>5.887323</td>\n      <td>333.242406</td>\n      <td>294.841581</td>\n      <td>204.064390</td>\n      <td>110.855656</td>\n      <td>42.368411</td>\n      <td>364.848320</td>\n      <td>43.794088</td>\n      <td>27.594298</td>\n    </tr>\n    <tr>\n      <th>2030-01-01 02:00:00</th>\n      <td>123.940011</td>\n      <td>162.905968</td>\n      <td>17.609308</td>\n      <td>130.702324</td>\n      <td>89.535395</td>\n      <td>993.880234</td>\n      <td>89.696443</td>\n      <td>13.525037</td>\n      <td>189.224274</td>\n      <td>47.483860</td>\n      <td>...</td>\n      <td>19.037653</td>\n      <td>3.765752</td>\n      <td>213.281040</td>\n      <td>188.599808</td>\n      <td>130.517722</td>\n      <td>71.015328</td>\n      <td>27.088460</td>\n      <td>233.428963</td>\n      <td>28.010237</td>\n      <td>17.643091</td>\n    </tr>\n    <tr>\n      <th>2030-01-01 03:00:00</th>\n      <td>83.697050</td>\n      <td>110.123244</td>\n      <td>11.883943</td>\n      <td>88.279043</td>\n      <td>60.464488</td>\n      <td>671.665001</td>\n      <td>60.666943</td>\n      <td>9.134241</td>\n      <td>128.108310</td>\n      <td>32.053837</td>\n      <td>...</td>\n      <td>12.864086</td>\n      <td>2.543549</td>\n      <td>144.223958</td>\n      <td>127.398864</td>\n      <td>88.144861</td>\n      <td>48.107157</td>\n      <td>18.281135</td>\n      <td>157.743726</td>\n      <td>18.916572</td>\n      <td>11.907454</td>\n    </tr>\n    <tr>\n      <th>2030-01-01 04:00:00</th>\n      <td>63.301405</td>\n      <td>83.423854</td>\n      <td>8.978733</td>\n      <td>66.785443</td>\n      <td>45.731428</td>\n      <td>508.589273</td>\n      <td>45.997868</td>\n      <td>6.909272</td>\n      <td>97.282922</td>\n      <td>24.228128</td>\n      <td>...</td>\n      <td>9.738870</td>\n      <td>1.924362</td>\n      <td>109.314273</td>\n      <td>96.398363</td>\n      <td>66.672445</td>\n      <td>36.565976</td>\n      <td>13.812065</td>\n      <td>119.435260</td>\n      <td>14.308327</td>\n      <td>8.997359</td>\n    </tr>\n    <tr>\n      <th>...</th>\n      <td>...</td>\n      <td>...</td>\n      <td>...</td>\n      <td>...</td>\n      <td>...</td>\n      <td>...</td>\n      <td>...</td>\n      <td>...</td>\n      <td>...</td>\n      <td>...</td>\n      <td>...</td>\n      <td>...</td>\n      <td>...</td>\n      <td>...</td>\n      <td>...</td>\n      <td>...</td>\n      <td>...</td>\n      <td>...</td>\n      <td>...</td>\n      <td>...</td>\n      <td>...</td>\n    </tr>\n    <tr>\n      <th>2030-12-31 19:00:00</th>\n      <td>779.323430</td>\n      <td>1088.974273</td>\n      <td>106.311443</td>\n      <td>830.692737</td>\n      <td>563.550786</td>\n      <td>6534.033901</td>\n      <td>618.460360</td>\n      <td>85.472501</td>\n      <td>1376.542415</td>\n      <td>291.583991</td>\n      <td>...</td>\n      <td>124.253094</td>\n      <td>23.981133</td>\n      <td>1453.056816</td>\n      <td>1207.103042</td>\n      <td>824.055681</td>\n      <td>532.991758</td>\n      <td>163.553297</td>\n      <td>1530.171772</td>\n      <td>176.803102</td>\n      <td>106.925297</td>\n    </tr>\n    <tr>\n      <th>2030-12-31 20:00:00</th>\n      <td>718.217109</td>\n      <td>1003.588401</td>\n      <td>97.975621</td>\n      <td>765.558577</td>\n      <td>519.363079</td>\n      <td>6021.703905</td>\n      <td>569.967224</td>\n      <td>78.770649</td>\n      <td>1268.608483</td>\n      <td>268.721051</td>\n      <td>...</td>\n      <td>114.510477</td>\n      <td>22.100786</td>\n      <td>1339.123432</td>\n      <td>1112.454758</td>\n      <td>759.441929</td>\n      <td>491.200168</td>\n      <td>150.729173</td>\n      <td>1410.191847</td>\n      <td>162.940068</td>\n      <td>98.541344</td>\n    </tr>\n    <tr>\n      <th>2030-12-31 21:00:00</th>\n      <td>637.317692</td>\n      <td>890.544983</td>\n      <td>86.939723</td>\n      <td>679.326654</td>\n      <td>460.862426</td>\n      <td>5343.423855</td>\n      <td>505.766559</td>\n      <td>69.897984</td>\n      <td>1125.713409</td>\n      <td>238.452520</td>\n      <td>...</td>\n      <td>101.612106</td>\n      <td>19.611371</td>\n      <td>1188.285609</td>\n      <td>987.148718</td>\n      <td>673.898980</td>\n      <td>435.871763</td>\n      <td>133.751156</td>\n      <td>1251.348933</td>\n      <td>144.586625</td>\n      <td>87.441723</td>\n    </tr>\n    <tr>\n      <th>2030-12-31 22:00:00</th>\n      <td>557.871945</td>\n      <td>779.532826</td>\n      <td>76.102128</td>\n      <td>594.644220</td>\n      <td>403.412962</td>\n      <td>4677.331723</td>\n      <td>442.719506</td>\n      <td>61.184751</td>\n      <td>985.385996</td>\n      <td>208.727881</td>\n      <td>...</td>\n      <td>88.945504</td>\n      <td>17.166687</td>\n      <td>1040.158169</td>\n      <td>864.094285</td>\n      <td>589.893141</td>\n      <td>381.537546</td>\n      <td>117.078215</td>\n      <td>1095.360244</td>\n      <td>126.562973</td>\n      <td>76.541550</td>\n    </tr>\n    <tr>\n      <th>2030-12-31 23:00:00</th>\n      <td>436.922099</td>\n      <td>610.525627</td>\n      <td>59.602749</td>\n      <td>465.721933</td>\n      <td>315.950712</td>\n      <td>3663.259308</td>\n      <td>346.735371</td>\n      <td>47.919545</td>\n      <td>771.748645</td>\n      <td>163.474476</td>\n      <td>...</td>\n      <td>69.661607</td>\n      <td>13.444851</td>\n      <td>814.645897</td>\n      <td>676.753675</td>\n      <td>462.000915</td>\n      <td>298.818012</td>\n      <td>91.694984</td>\n      <td>857.879844</td>\n      <td>99.123393</td>\n      <td>59.946902</td>\n    </tr>\n  </tbody>\n</table>\n<p>8760 rows × 28 columns</p>\n</div>"
     },
     "execution_count": 54,
     "metadata": {},
     "output_type": "execute_result"
    }
   ],
   "source": [
    "synthetic_load_transport.set_index('utc_timestamp', inplace = True)\n",
    "synthetic_load_transport"
   ],
   "metadata": {
    "collapsed": false,
    "pycharm": {
     "name": "#%%\n"
    }
   }
  },
  {
   "cell_type": "markdown",
   "source": [
    "Section 5: Combining load curves"
   ],
   "metadata": {
    "collapsed": false,
    "pycharm": {
     "name": "#%% md\n"
    }
   }
  },
  {
   "cell_type": "code",
   "execution_count": 55,
   "outputs": [],
   "source": [
    "load_curve = pd.concat([base_load, synthetic_load_heating, synthetic_load_transport])\\\n",
    "    .groupby('utc_timestamp')\\\n",
    "    .agg('sum')"
   ],
   "metadata": {
    "collapsed": false,
    "pycharm": {
     "name": "#%%\n"
    }
   }
  },
  {
   "cell_type": "code",
   "execution_count": 56,
   "outputs": [
    {
     "data": {
      "text/plain": "                               AT            BE           BG            CH  \\\nutc_timestamp                                                                \n2030-01-01 00:00:00   8605.552991  10681.895928  4806.721758   8345.943677   \n2030-01-01 01:00:00   8255.806326  10070.808600  4730.927057   8200.633864   \n2030-01-01 02:00:00   8046.958788   9711.881138  4715.494960   8165.456929   \n2030-01-01 03:00:00   7967.871602   9691.856124  4784.184993   7959.097177   \n2030-01-01 04:00:00   8116.461134  10113.941100  4826.104520   8157.343008   \n...                           ...           ...          ...           ...   \n2030-12-31 19:00:00  11861.270537  13999.208159  6694.363420  10071.526562   \n2030-12-31 20:00:00  11120.151787  13056.391926  6423.425889   9757.931672   \n2030-12-31 21:00:00  10340.086807  13034.023190  5915.449850   9520.359376   \n2030-12-31 22:00:00   9624.916839  12907.113643  5389.512623   8990.421528   \n2030-12-31 23:00:00   9465.358415  12170.335553  5047.977880   8792.337714   \n\n                               CZ            DE           DK           EE  \\\nutc_timestamp                                                               \n2030-01-01 00:00:00   6824.552188  59722.013271  4110.404567  1014.108957   \n2030-01-01 01:00:00   6590.691751  56401.853743  3975.680064   980.222227   \n2030-01-01 02:00:00   6269.226260  54679.970818  3939.102481   967.681182   \n2030-01-01 03:00:00   7005.029631  54885.533311  4027.199690  1019.673472   \n2030-01-01 04:00:00   7839.001859  58273.212618  4347.153283  1070.620956   \n...                           ...           ...          ...          ...   \n2030-12-31 19:00:00  10640.984683  83987.645162  6029.389077  1152.432332   \n2030-12-31 20:00:00  10103.374813  80404.703962  5628.944464  1058.585146   \n2030-12-31 21:00:00   9570.068364  74293.527528  5131.734616   998.353116   \n2030-12-31 22:00:00   8860.746402  69252.458980  4641.152437   955.082685   \n2030-12-31 23:00:00   8551.131834  67752.975525  4294.816475   933.654661   \n\n                               ES            FI  ...          LU           LV  \\\nutc_timestamp                                    ...                            \n2030-01-01 00:00:00  25816.588137  11200.742252  ...  545.003325   842.282268   \n2030-01-01 01:00:00  24415.199845  11080.831210  ...  516.747426   822.483685   \n2030-01-01 02:00:00  23305.655688  11080.786210  ...  501.886210   832.005710   \n2030-01-01 03:00:00  22764.812775  11399.102813  ...  501.063593   923.361231   \n2030-01-01 04:00:00  23191.698281  12239.068494  ...  532.585511   987.718117   \n...                           ...           ...  ...         ...          ...   \n2030-12-31 19:00:00  36380.607992  11858.366577  ...  755.136160  1118.085624   \n2030-12-31 20:00:00  35814.963939  11749.838371  ...  707.515123  1024.944035   \n2030-12-31 21:00:00  33677.209824  11382.641225  ...  683.426001   933.117591   \n2030-12-31 22:00:00  31081.904747  10987.270686  ...  629.772079   915.702358   \n2030-12-31 23:00:00  29031.286097  10665.124643  ...  593.488183   892.464546   \n\n                               NL            NO            PL           PT  \\\nutc_timestamp                                                                \n2030-01-01 00:00:00  13105.244941  15536.860646  14019.554662  5561.467083   \n2030-01-01 01:00:00  12714.664705  15218.979063  13849.017424  5154.960248   \n2030-01-01 02:00:00  12578.751938  15070.795072  14055.417888  4868.598715   \n2030-01-01 03:00:00  12679.938574  15063.017253  14755.907503  4708.993702   \n2030-01-01 04:00:00  13119.684268  15124.727201  16893.137685  4643.603061   \n...                           ...           ...           ...          ...   \n2030-12-31 19:00:00  19261.634272  18017.904238  23400.236081  8637.387321   \n2030-12-31 20:00:00  18229.953648  17786.334188  21983.337026  8386.525610   \n2030-12-31 21:00:00  16833.927340  17492.920378  20555.135280  7950.894719   \n2030-12-31 22:00:00  15451.965428  17082.706451  18982.778947  7586.416240   \n2030-12-31 23:00:00  14506.114345  16646.177301  18854.886722  6811.670380   \n\n                              RO            SE           SI           SK  \nutc_timestamp                                                             \n2030-01-01 00:00:00  6817.691971  16802.412214  1632.227321  3283.068236  \n2030-01-01 01:00:00  6864.412242  16500.049817  1552.219538  3265.318375  \n2030-01-01 02:00:00  7036.554151  16366.060459  1518.024843  3282.468930  \n2030-01-01 03:00:00  7622.149082  16428.366751  1517.778886  3336.347945  \n2030-01-01 04:00:00  8342.539348  17007.501188  1604.694238  3514.473265  \n...                          ...           ...          ...          ...  \n2030-12-31 19:00:00  8847.694286  20138.088506  2488.641838  3919.815457  \n2030-12-31 20:00:00  8063.254113  19336.306444  2377.997275  3810.265903  \n2030-12-31 21:00:00  7355.372879  18191.225167  2200.290662  3594.076771  \n2030-12-31 22:00:00  6936.059541  17064.157423  1993.379415  3400.758056  \n2030-12-31 23:00:00  6752.356859  16389.412203  1869.183530  3303.089029  \n\n[8760 rows x 28 columns]",
      "text/html": "<div>\n<style scoped>\n    .dataframe tbody tr th:only-of-type {\n        vertical-align: middle;\n    }\n\n    .dataframe tbody tr th {\n        vertical-align: top;\n    }\n\n    .dataframe thead th {\n        text-align: right;\n    }\n</style>\n<table border=\"1\" class=\"dataframe\">\n  <thead>\n    <tr style=\"text-align: right;\">\n      <th></th>\n      <th>AT</th>\n      <th>BE</th>\n      <th>BG</th>\n      <th>CH</th>\n      <th>CZ</th>\n      <th>DE</th>\n      <th>DK</th>\n      <th>EE</th>\n      <th>ES</th>\n      <th>FI</th>\n      <th>...</th>\n      <th>LU</th>\n      <th>LV</th>\n      <th>NL</th>\n      <th>NO</th>\n      <th>PL</th>\n      <th>PT</th>\n      <th>RO</th>\n      <th>SE</th>\n      <th>SI</th>\n      <th>SK</th>\n    </tr>\n    <tr>\n      <th>utc_timestamp</th>\n      <th></th>\n      <th></th>\n      <th></th>\n      <th></th>\n      <th></th>\n      <th></th>\n      <th></th>\n      <th></th>\n      <th></th>\n      <th></th>\n      <th></th>\n      <th></th>\n      <th></th>\n      <th></th>\n      <th></th>\n      <th></th>\n      <th></th>\n      <th></th>\n      <th></th>\n      <th></th>\n      <th></th>\n    </tr>\n  </thead>\n  <tbody>\n    <tr>\n      <th>2030-01-01 00:00:00</th>\n      <td>8605.552991</td>\n      <td>10681.895928</td>\n      <td>4806.721758</td>\n      <td>8345.943677</td>\n      <td>6824.552188</td>\n      <td>59722.013271</td>\n      <td>4110.404567</td>\n      <td>1014.108957</td>\n      <td>25816.588137</td>\n      <td>11200.742252</td>\n      <td>...</td>\n      <td>545.003325</td>\n      <td>842.282268</td>\n      <td>13105.244941</td>\n      <td>15536.860646</td>\n      <td>14019.554662</td>\n      <td>5561.467083</td>\n      <td>6817.691971</td>\n      <td>16802.412214</td>\n      <td>1632.227321</td>\n      <td>3283.068236</td>\n    </tr>\n    <tr>\n      <th>2030-01-01 01:00:00</th>\n      <td>8255.806326</td>\n      <td>10070.808600</td>\n      <td>4730.927057</td>\n      <td>8200.633864</td>\n      <td>6590.691751</td>\n      <td>56401.853743</td>\n      <td>3975.680064</td>\n      <td>980.222227</td>\n      <td>24415.199845</td>\n      <td>11080.831210</td>\n      <td>...</td>\n      <td>516.747426</td>\n      <td>822.483685</td>\n      <td>12714.664705</td>\n      <td>15218.979063</td>\n      <td>13849.017424</td>\n      <td>5154.960248</td>\n      <td>6864.412242</td>\n      <td>16500.049817</td>\n      <td>1552.219538</td>\n      <td>3265.318375</td>\n    </tr>\n    <tr>\n      <th>2030-01-01 02:00:00</th>\n      <td>8046.958788</td>\n      <td>9711.881138</td>\n      <td>4715.494960</td>\n      <td>8165.456929</td>\n      <td>6269.226260</td>\n      <td>54679.970818</td>\n      <td>3939.102481</td>\n      <td>967.681182</td>\n      <td>23305.655688</td>\n      <td>11080.786210</td>\n      <td>...</td>\n      <td>501.886210</td>\n      <td>832.005710</td>\n      <td>12578.751938</td>\n      <td>15070.795072</td>\n      <td>14055.417888</td>\n      <td>4868.598715</td>\n      <td>7036.554151</td>\n      <td>16366.060459</td>\n      <td>1518.024843</td>\n      <td>3282.468930</td>\n    </tr>\n    <tr>\n      <th>2030-01-01 03:00:00</th>\n      <td>7967.871602</td>\n      <td>9691.856124</td>\n      <td>4784.184993</td>\n      <td>7959.097177</td>\n      <td>7005.029631</td>\n      <td>54885.533311</td>\n      <td>4027.199690</td>\n      <td>1019.673472</td>\n      <td>22764.812775</td>\n      <td>11399.102813</td>\n      <td>...</td>\n      <td>501.063593</td>\n      <td>923.361231</td>\n      <td>12679.938574</td>\n      <td>15063.017253</td>\n      <td>14755.907503</td>\n      <td>4708.993702</td>\n      <td>7622.149082</td>\n      <td>16428.366751</td>\n      <td>1517.778886</td>\n      <td>3336.347945</td>\n    </tr>\n    <tr>\n      <th>2030-01-01 04:00:00</th>\n      <td>8116.461134</td>\n      <td>10113.941100</td>\n      <td>4826.104520</td>\n      <td>8157.343008</td>\n      <td>7839.001859</td>\n      <td>58273.212618</td>\n      <td>4347.153283</td>\n      <td>1070.620956</td>\n      <td>23191.698281</td>\n      <td>12239.068494</td>\n      <td>...</td>\n      <td>532.585511</td>\n      <td>987.718117</td>\n      <td>13119.684268</td>\n      <td>15124.727201</td>\n      <td>16893.137685</td>\n      <td>4643.603061</td>\n      <td>8342.539348</td>\n      <td>17007.501188</td>\n      <td>1604.694238</td>\n      <td>3514.473265</td>\n    </tr>\n    <tr>\n      <th>...</th>\n      <td>...</td>\n      <td>...</td>\n      <td>...</td>\n      <td>...</td>\n      <td>...</td>\n      <td>...</td>\n      <td>...</td>\n      <td>...</td>\n      <td>...</td>\n      <td>...</td>\n      <td>...</td>\n      <td>...</td>\n      <td>...</td>\n      <td>...</td>\n      <td>...</td>\n      <td>...</td>\n      <td>...</td>\n      <td>...</td>\n      <td>...</td>\n      <td>...</td>\n      <td>...</td>\n    </tr>\n    <tr>\n      <th>2030-12-31 19:00:00</th>\n      <td>11861.270537</td>\n      <td>13999.208159</td>\n      <td>6694.363420</td>\n      <td>10071.526562</td>\n      <td>10640.984683</td>\n      <td>83987.645162</td>\n      <td>6029.389077</td>\n      <td>1152.432332</td>\n      <td>36380.607992</td>\n      <td>11858.366577</td>\n      <td>...</td>\n      <td>755.136160</td>\n      <td>1118.085624</td>\n      <td>19261.634272</td>\n      <td>18017.904238</td>\n      <td>23400.236081</td>\n      <td>8637.387321</td>\n      <td>8847.694286</td>\n      <td>20138.088506</td>\n      <td>2488.641838</td>\n      <td>3919.815457</td>\n    </tr>\n    <tr>\n      <th>2030-12-31 20:00:00</th>\n      <td>11120.151787</td>\n      <td>13056.391926</td>\n      <td>6423.425889</td>\n      <td>9757.931672</td>\n      <td>10103.374813</td>\n      <td>80404.703962</td>\n      <td>5628.944464</td>\n      <td>1058.585146</td>\n      <td>35814.963939</td>\n      <td>11749.838371</td>\n      <td>...</td>\n      <td>707.515123</td>\n      <td>1024.944035</td>\n      <td>18229.953648</td>\n      <td>17786.334188</td>\n      <td>21983.337026</td>\n      <td>8386.525610</td>\n      <td>8063.254113</td>\n      <td>19336.306444</td>\n      <td>2377.997275</td>\n      <td>3810.265903</td>\n    </tr>\n    <tr>\n      <th>2030-12-31 21:00:00</th>\n      <td>10340.086807</td>\n      <td>13034.023190</td>\n      <td>5915.449850</td>\n      <td>9520.359376</td>\n      <td>9570.068364</td>\n      <td>74293.527528</td>\n      <td>5131.734616</td>\n      <td>998.353116</td>\n      <td>33677.209824</td>\n      <td>11382.641225</td>\n      <td>...</td>\n      <td>683.426001</td>\n      <td>933.117591</td>\n      <td>16833.927340</td>\n      <td>17492.920378</td>\n      <td>20555.135280</td>\n      <td>7950.894719</td>\n      <td>7355.372879</td>\n      <td>18191.225167</td>\n      <td>2200.290662</td>\n      <td>3594.076771</td>\n    </tr>\n    <tr>\n      <th>2030-12-31 22:00:00</th>\n      <td>9624.916839</td>\n      <td>12907.113643</td>\n      <td>5389.512623</td>\n      <td>8990.421528</td>\n      <td>8860.746402</td>\n      <td>69252.458980</td>\n      <td>4641.152437</td>\n      <td>955.082685</td>\n      <td>31081.904747</td>\n      <td>10987.270686</td>\n      <td>...</td>\n      <td>629.772079</td>\n      <td>915.702358</td>\n      <td>15451.965428</td>\n      <td>17082.706451</td>\n      <td>18982.778947</td>\n      <td>7586.416240</td>\n      <td>6936.059541</td>\n      <td>17064.157423</td>\n      <td>1993.379415</td>\n      <td>3400.758056</td>\n    </tr>\n    <tr>\n      <th>2030-12-31 23:00:00</th>\n      <td>9465.358415</td>\n      <td>12170.335553</td>\n      <td>5047.977880</td>\n      <td>8792.337714</td>\n      <td>8551.131834</td>\n      <td>67752.975525</td>\n      <td>4294.816475</td>\n      <td>933.654661</td>\n      <td>29031.286097</td>\n      <td>10665.124643</td>\n      <td>...</td>\n      <td>593.488183</td>\n      <td>892.464546</td>\n      <td>14506.114345</td>\n      <td>16646.177301</td>\n      <td>18854.886722</td>\n      <td>6811.670380</td>\n      <td>6752.356859</td>\n      <td>16389.412203</td>\n      <td>1869.183530</td>\n      <td>3303.089029</td>\n    </tr>\n  </tbody>\n</table>\n<p>8760 rows × 28 columns</p>\n</div>"
     },
     "execution_count": 56,
     "metadata": {},
     "output_type": "execute_result"
    }
   ],
   "source": [
    "load_curve"
   ],
   "metadata": {
    "collapsed": false,
    "pycharm": {
     "name": "#%%\n"
    }
   }
  },
  {
   "cell_type": "code",
   "execution_count": 57,
   "outputs": [],
   "source": [
    "load_curve.to_csv(\"../data/synthetic_load_\" + str(curve_year) + \".csv\")"
   ],
   "metadata": {
    "collapsed": false,
    "pycharm": {
     "name": "#%%\n"
    }
   }
  },
  {
   "cell_type": "code",
   "execution_count": null,
   "outputs": [],
   "source": [],
   "metadata": {
    "collapsed": false,
    "pycharm": {
     "name": "#%%\n"
    }
   }
  },
  {
   "cell_type": "code",
   "execution_count": 24,
   "outputs": [],
   "source": [
    "load1 = pd.read_csv('../data/load.csv', parse_dates=True)\n",
    "load2 = pd.read_csv('../data/synthetic_load_2030.csv', parse_dates=True)\n",
    "load3 = pd.read_csv('../data/synthetic_load_2050.csv', parse_dates=True)"
   ],
   "metadata": {
    "collapsed": false,
    "pycharm": {
     "name": "#%%\n"
    }
   }
  },
  {
   "cell_type": "code",
   "execution_count": 25,
   "outputs": [],
   "source": [
    "def update_timezone(row):\n",
    "    return pd.to_datetime(row['utc_timestamp'], utc = True)\n",
    "load1['utc_timestamp'] = load1.apply(lambda r: update_timezone(r), axis=1)"
   ],
   "metadata": {
    "collapsed": false,
    "pycharm": {
     "name": "#%%\n"
    }
   }
  },
  {
   "cell_type": "code",
   "execution_count": 26,
   "outputs": [],
   "source": [
    "pd.concat([load1,load2,load3]).to_csv('../data/load_20_30_50.csv', index = False)"
   ],
   "metadata": {
    "collapsed": false,
    "pycharm": {
     "name": "#%%\n"
    }
   }
  },
  {
   "cell_type": "code",
   "execution_count": null,
   "outputs": [],
   "source": [],
   "metadata": {
    "collapsed": false,
    "pycharm": {
     "name": "#%%\n"
    }
   }
  }
 ],
 "metadata": {
  "kernelspec": {
   "display_name": "Python 3",
   "language": "python",
   "name": "python3"
  },
  "language_info": {
   "codemirror_mode": {
    "name": "ipython",
    "version": 2
   },
   "file_extension": ".py",
   "mimetype": "text/x-python",
   "name": "python",
   "nbconvert_exporter": "python",
   "pygments_lexer": "ipython2",
   "version": "2.7.6"
  }
 },
 "nbformat": 4,
 "nbformat_minor": 0
}